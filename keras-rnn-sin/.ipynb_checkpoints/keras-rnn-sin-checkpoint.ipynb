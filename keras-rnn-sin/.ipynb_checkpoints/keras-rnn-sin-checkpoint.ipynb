{
 "cells": [
  {
   "cell_type": "code",
   "execution_count": 1,
   "metadata": {},
   "outputs": [
    {
     "data": {
      "text/plain": [
       "<matplotlib.axes._subplots.AxesSubplot at 0x7fe9e6ed1a20>"
      ]
     },
     "execution_count": 1,
     "metadata": {},
     "output_type": "execute_result"
    },
    {
     "data": {
      "image/png": "[encoded data removed]",
      "text/plain": [
       "<Figure size 432x288 with 1 Axes>"
      ]
     },
     "metadata": {},
     "output_type": "display_data"
    }
   ],
   "source": [
    "import pandas as pd\n",
    "import numpy as np\n",
    "import math\n",
    "import random\n",
    "%matplotlib inline\n",
    "random.seed(0)\n",
    "# 乱数の係数\n",
    "random_factor = 0.05\n",
    "# サイクルあたりのステップ数\n",
    "steps_per_cycle = 80\n",
    "# 生成するサイクル数\n",
    "number_of_cycles = 50\n",
    "\n",
    "df = pd.DataFrame(np.arange(steps_per_cycle * number_of_cycles + 1), columns=[\"t\"])\n",
    "df[\"sin_t\"] = df.t.apply(lambda x: math.sin(x * (2 * math.pi / steps_per_cycle)+ random.uniform(-1.0, +1.0) * random_factor))\n",
    "df[[\"sin_t\"]].head(steps_per_cycle * 2).plot()"
   ]
  },
  {
   "cell_type": "code",
   "execution_count": 2,
   "metadata": {},
   "outputs": [],
   "source": [
    "def _load_data(data, n_prev = 100):  \n",
    "    \"\"\"\n",
    "    data should be pd.DataFrame()\n",
    "    \"\"\"\n",
    "\n",
    "    docX, docY = [], []\n",
    "    for i in range(len(data)-n_prev):\n",
    "        docX.append(data.iloc[i:i+n_prev].as_matrix())\n",
    "        docY.append(data.iloc[i+n_prev].as_matrix())\n",
    "    alsX = np.array(docX)\n",
    "    alsY = np.array(docY)\n",
    "\n",
    "    return alsX, alsY\n",
    "\n",
    "def train_test_split(df, test_size=0.1, n_prev = 100):  \n",
    "    \"\"\"\n",
    "    This just splits data to training and testing parts\n",
    "    \"\"\"\n",
    "    ntrn = round(len(df) * (1 - test_size))\n",
    "    ntrn = int(ntrn)\n",
    "    X_train, y_train = _load_data(df.iloc[0:ntrn], n_prev)\n",
    "    X_test, y_test = _load_data(df.iloc[ntrn:], n_prev)\n",
    "\n",
    "    return (X_train, y_train), (X_test, y_test)"
   ]
  },
  {
   "cell_type": "code",
   "execution_count": 3,
   "metadata": {},
   "outputs": [],
   "source": [
    "length_of_sequences = 100\n",
    "\n",
    "(X_train, y_train), (X_test, y_test) = train_test_split(df[[\"sin_t\"]], n_prev =length_of_sequences)  "
   ]
  },
  {
   "cell_type": "code",
   "execution_count": 6,
   "metadata": {},
   "outputs": [],
   "source": [
    "import os\n",
    "\n",
    "os.makedirs(\"./data\", exist_ok = True)\n",
    "\n",
    "np.save('./data/X_train.npy', X_train)\n",
    "np.save('./data/X_test.npy', X_test)\n",
    "np.save('./data/y_train.npy', y_train)\n",
    "np.save('./data/y_test.npy', y_test)"
   ]
  },
  {
   "cell_type": "code",
   "execution_count": 7,
   "metadata": {},
   "outputs": [
    {
     "name": "stderr",
     "output_type": "stream",
     "text": [
      "INFO:sagemaker:Created S3 bucket: sagemaker-us-east-1-748762807827\n"
     ]
    },
    {
     "name": "stdout",
     "output_type": "stream",
     "text": [
      "Training data is uploaded to: s3://sagemaker-us-east-1-748762807827/dataset/keras-rnn-sin\n"
     ]
    }
   ],
   "source": [
    "import sagemaker\n",
    "sagemaker_session = sagemaker.Session()\n",
    "bucket_name = sagemaker_session.default_bucket()\n",
    "input_data = sagemaker_session.upload_data(path='./data', bucket=bucket_name, key_prefix='dataset/keras-rnn-sin')\n",
    "print('Training data is uploaded to: {}'.format(input_data))"
   ]
  },
  {
   "cell_type": "code",
   "execution_count": 9,
   "metadata": {},
   "outputs": [
    {
     "name": "stderr",
     "output_type": "stream",
     "text": [
      "INFO:sagemaker:Created S3 bucket: sagemaker-us-east-1-748762807827\n",
      "INFO:sagemaker:Creating training-job with name: sagemaker-tensorflow-scriptmode-2019-04-24-15-59-37-598\n"
     ]
    },
    {
     "name": "stdout",
     "output_type": "stream",
     "text": [
      "Creating tmpc9dsljye_algo-1-6otb5_1 ... \n",
      "\u001b[1BAttaching to tmpc9dsljye_algo-1-6otb5_1\n",
      "\u001b[36malgo-1-6otb5_1  |\u001b[0m 2019-04-24 16:00:13,892 sagemaker-containers INFO     Imported framework sagemaker_tensorflow_container.training\n",
      "\u001b[36malgo-1-6otb5_1  |\u001b[0m 2019-04-24 16:00:13,897 sagemaker-containers INFO     No GPUs detected (normal if no gpus installed)\n",
      "\u001b[36malgo-1-6otb5_1  |\u001b[0m 2019-04-24 16:00:14,100 sagemaker-containers INFO     No GPUs detected (normal if no gpus installed)\n",
      "\u001b[36malgo-1-6otb5_1  |\u001b[0m 2019-04-24 16:00:14,119 sagemaker-containers INFO     No GPUs detected (normal if no gpus installed)\n",
      "\u001b[36malgo-1-6otb5_1  |\u001b[0m 2019-04-24 16:00:14,132 sagemaker-containers INFO     Invoking user script\n",
      "\u001b[36malgo-1-6otb5_1  |\u001b[0m \n",
      "\u001b[36malgo-1-6otb5_1  |\u001b[0m Training Env:\n",
      "\u001b[36malgo-1-6otb5_1  |\u001b[0m \n",
      "\u001b[36malgo-1-6otb5_1  |\u001b[0m {\n",
      "\u001b[36malgo-1-6otb5_1  |\u001b[0m     \"additional_framework_parameters\": {},\n",
      "\u001b[36malgo-1-6otb5_1  |\u001b[0m     \"channel_input_dirs\": {\n",
      "\u001b[36malgo-1-6otb5_1  |\u001b[0m         \"training\": \"/opt/ml/input/data/training\"\n",
      "\u001b[36malgo-1-6otb5_1  |\u001b[0m     },\n",
      "\u001b[36malgo-1-6otb5_1  |\u001b[0m     \"current_host\": \"algo-1-6otb5\",\n",
      "\u001b[36malgo-1-6otb5_1  |\u001b[0m     \"framework_module\": \"sagemaker_tensorflow_container.training:main\",\n",
      "\u001b[36malgo-1-6otb5_1  |\u001b[0m     \"hosts\": [\n",
      "\u001b[36malgo-1-6otb5_1  |\u001b[0m         \"algo-1-6otb5\"\n",
      "\u001b[36malgo-1-6otb5_1  |\u001b[0m     ],\n",
      "\u001b[36malgo-1-6otb5_1  |\u001b[0m     \"hyperparameters\": {\n",
      "\u001b[36malgo-1-6otb5_1  |\u001b[0m         \"batch-size\": 600,\n",
      "\u001b[36malgo-1-6otb5_1  |\u001b[0m         \"validation_split\": 0.05,\n",
      "\u001b[36malgo-1-6otb5_1  |\u001b[0m         \"epochs\": 15,\n",
      "\u001b[36malgo-1-6otb5_1  |\u001b[0m         \"model_dir\": \"s3://sagemaker-us-east-1-748762807827/sagemaker-tensorflow-scriptmode-2019-04-24-15-59-37-598/model\"\n",
      "\u001b[36malgo-1-6otb5_1  |\u001b[0m     },\n",
      "\u001b[36malgo-1-6otb5_1  |\u001b[0m     \"input_config_dir\": \"/opt/ml/input/config\",\n",
      "\u001b[36malgo-1-6otb5_1  |\u001b[0m     \"input_data_config\": {\n",
      "\u001b[36malgo-1-6otb5_1  |\u001b[0m         \"training\": {\n",
      "\u001b[36malgo-1-6otb5_1  |\u001b[0m             \"TrainingInputMode\": \"File\"\n",
      "\u001b[36malgo-1-6otb5_1  |\u001b[0m         }\n",
      "\u001b[36malgo-1-6otb5_1  |\u001b[0m     },\n",
      "\u001b[36malgo-1-6otb5_1  |\u001b[0m     \"input_dir\": \"/opt/ml/input\",\n",
      "\u001b[36malgo-1-6otb5_1  |\u001b[0m     \"is_master\": true,\n",
      "\u001b[36malgo-1-6otb5_1  |\u001b[0m     \"job_name\": \"sagemaker-tensorflow-scriptmode-2019-04-24-15-59-37-598\",\n",
      "\u001b[36malgo-1-6otb5_1  |\u001b[0m     \"log_level\": 20,\n",
      "\u001b[36malgo-1-6otb5_1  |\u001b[0m     \"master_hostname\": \"algo-1-6otb5\",\n",
      "\u001b[36malgo-1-6otb5_1  |\u001b[0m     \"model_dir\": \"/opt/ml/model\",\n",
      "\u001b[36malgo-1-6otb5_1  |\u001b[0m     \"module_dir\": \"s3://sagemaker-us-east-1-748762807827/sagemaker-tensorflow-scriptmode-2019-04-24-15-59-37-598/source/sourcedir.tar.gz\",\n",
      "\u001b[36malgo-1-6otb5_1  |\u001b[0m     \"module_name\": \"rnn-sin-sagemaker\",\n",
      "\u001b[36malgo-1-6otb5_1  |\u001b[0m     \"network_interface_name\": \"eth0\",\n",
      "\u001b[36malgo-1-6otb5_1  |\u001b[0m     \"num_cpus\": 4,\n",
      "\u001b[36malgo-1-6otb5_1  |\u001b[0m     \"num_gpus\": 0,\n",
      "\u001b[36malgo-1-6otb5_1  |\u001b[0m     \"output_data_dir\": \"/opt/ml/output/data\",\n",
      "\u001b[36malgo-1-6otb5_1  |\u001b[0m     \"output_dir\": \"/opt/ml/output\",\n",
      "\u001b[36malgo-1-6otb5_1  |\u001b[0m     \"output_intermediate_dir\": \"/opt/ml/output/intermediate\",\n",
      "\u001b[36malgo-1-6otb5_1  |\u001b[0m     \"resource_config\": {\n",
      "\u001b[36malgo-1-6otb5_1  |\u001b[0m         \"current_host\": \"algo-1-6otb5\",\n",
      "\u001b[36malgo-1-6otb5_1  |\u001b[0m         \"hosts\": [\n",
      "\u001b[36malgo-1-6otb5_1  |\u001b[0m             \"algo-1-6otb5\"\n",
      "\u001b[36malgo-1-6otb5_1  |\u001b[0m         ]\n",
      "\u001b[36malgo-1-6otb5_1  |\u001b[0m     },\n",
      "\u001b[36malgo-1-6otb5_1  |\u001b[0m     \"user_entry_point\": \"rnn-sin-sagemaker.py\"\n",
      "\u001b[36malgo-1-6otb5_1  |\u001b[0m }\n",
      "\u001b[36malgo-1-6otb5_1  |\u001b[0m \n",
      "\u001b[36malgo-1-6otb5_1  |\u001b[0m Environment variables:\n",
      "\u001b[36malgo-1-6otb5_1  |\u001b[0m \n",
      "\u001b[36malgo-1-6otb5_1  |\u001b[0m SM_HOSTS=[\"algo-1-6otb5\"]\n",
      "\u001b[36malgo-1-6otb5_1  |\u001b[0m SM_NETWORK_INTERFACE_NAME=eth0\n",
      "\u001b[36malgo-1-6otb5_1  |\u001b[0m SM_HPS={\"batch-size\":600,\"epochs\":15,\"model_dir\":\"s3://sagemaker-us-east-1-748762807827/sagemaker-tensorflow-scriptmode-2019-04-24-15-59-37-598/model\",\"validation_split\":0.05}\n",
      "\u001b[36malgo-1-6otb5_1  |\u001b[0m SM_USER_ENTRY_POINT=rnn-sin-sagemaker.py\n",
      "\u001b[36malgo-1-6otb5_1  |\u001b[0m SM_FRAMEWORK_PARAMS={}\n",
      "\u001b[36malgo-1-6otb5_1  |\u001b[0m SM_RESOURCE_CONFIG={\"current_host\":\"algo-1-6otb5\",\"hosts\":[\"algo-1-6otb5\"]}\n",
      "\u001b[36malgo-1-6otb5_1  |\u001b[0m SM_INPUT_DATA_CONFIG={\"training\":{\"TrainingInputMode\":\"File\"}}\n",
      "\u001b[36malgo-1-6otb5_1  |\u001b[0m SM_OUTPUT_DATA_DIR=/opt/ml/output/data\n",
      "\u001b[36malgo-1-6otb5_1  |\u001b[0m SM_CHANNELS=[\"training\"]\n",
      "\u001b[36malgo-1-6otb5_1  |\u001b[0m SM_CURRENT_HOST=algo-1-6otb5\n",
      "\u001b[36malgo-1-6otb5_1  |\u001b[0m SM_MODULE_NAME=rnn-sin-sagemaker\n",
      "\u001b[36malgo-1-6otb5_1  |\u001b[0m SM_LOG_LEVEL=20\n",
      "\u001b[36malgo-1-6otb5_1  |\u001b[0m SM_FRAMEWORK_MODULE=sagemaker_tensorflow_container.training:main\n",
      "\u001b[36malgo-1-6otb5_1  |\u001b[0m SM_INPUT_DIR=/opt/ml/input\n",
      "\u001b[36malgo-1-6otb5_1  |\u001b[0m SM_INPUT_CONFIG_DIR=/opt/ml/input/config\n",
      "\u001b[36malgo-1-6otb5_1  |\u001b[0m SM_OUTPUT_DIR=/opt/ml/output\n",
      "\u001b[36malgo-1-6otb5_1  |\u001b[0m SM_NUM_CPUS=4\n",
      "\u001b[36malgo-1-6otb5_1  |\u001b[0m SM_NUM_GPUS=0\n",
      "\u001b[36malgo-1-6otb5_1  |\u001b[0m SM_MODEL_DIR=/opt/ml/model\n",
      "\u001b[36malgo-1-6otb5_1  |\u001b[0m SM_MODULE_DIR=s3://sagemaker-us-east-1-748762807827/sagemaker-tensorflow-scriptmode-2019-04-24-15-59-37-598/source/sourcedir.tar.gz\n",
      "\u001b[36malgo-1-6otb5_1  |\u001b[0m SM_TRAINING_ENV={\"additional_framework_parameters\":{},\"channel_input_dirs\":{\"training\":\"/opt/ml/input/data/training\"},\"current_host\":\"algo-1-6otb5\",\"framework_module\":\"sagemaker_tensorflow_container.training:main\",\"hosts\":[\"algo-1-6otb5\"],\"hyperparameters\":{\"batch-size\":600,\"epochs\":15,\"model_dir\":\"s3://sagemaker-us-east-1-748762807827/sagemaker-tensorflow-scriptmode-2019-04-24-15-59-37-598/model\",\"validation_split\":0.05},\"input_config_dir\":\"/opt/ml/input/config\",\"input_data_config\":{\"training\":{\"TrainingInputMode\":\"File\"}},\"input_dir\":\"/opt/ml/input\",\"is_master\":true,\"job_name\":\"sagemaker-tensorflow-scriptmode-2019-04-24-15-59-37-598\",\"log_level\":20,\"master_hostname\":\"algo-1-6otb5\",\"model_dir\":\"/opt/ml/model\",\"module_dir\":\"s3://sagemaker-us-east-1-748762807827/sagemaker-tensorflow-scriptmode-2019-04-24-15-59-37-598/source/sourcedir.tar.gz\",\"module_name\":\"rnn-sin-sagemaker\",\"network_interface_name\":\"eth0\",\"num_cpus\":4,\"num_gpus\":0,\"output_data_dir\":\"/opt/ml/output/data\",\"output_dir\":\"/opt/ml/output\",\"output_intermediate_dir\":\"/opt/ml/output/intermediate\",\"resource_config\":{\"current_host\":\"algo-1-6otb5\",\"hosts\":[\"algo-1-6otb5\"]},\"user_entry_point\":\"rnn-sin-sagemaker.py\"}\n",
      "\u001b[36malgo-1-6otb5_1  |\u001b[0m SM_USER_ARGS=[\"--batch-size\",\"600\",\"--epochs\",\"15\",\"--model_dir\",\"s3://sagemaker-us-east-1-748762807827/sagemaker-tensorflow-scriptmode-2019-04-24-15-59-37-598/model\",\"--validation_split\",\"0.05\"]\n",
      "\u001b[36malgo-1-6otb5_1  |\u001b[0m SM_OUTPUT_INTERMEDIATE_DIR=/opt/ml/output/intermediate\n",
      "\u001b[36malgo-1-6otb5_1  |\u001b[0m SM_CHANNEL_TRAINING=/opt/ml/input/data/training\n",
      "\u001b[36malgo-1-6otb5_1  |\u001b[0m SM_HP_BATCH-SIZE=600\n",
      "\u001b[36malgo-1-6otb5_1  |\u001b[0m SM_HP_VALIDATION_SPLIT=0.05\n",
      "\u001b[36malgo-1-6otb5_1  |\u001b[0m SM_HP_EPOCHS=15\n",
      "\u001b[36malgo-1-6otb5_1  |\u001b[0m SM_HP_MODEL_DIR=s3://sagemaker-us-east-1-748762807827/sagemaker-tensorflow-scriptmode-2019-04-24-15-59-37-598/model\n",
      "\u001b[36malgo-1-6otb5_1  |\u001b[0m \n",
      "\u001b[36malgo-1-6otb5_1  |\u001b[0m Invoking script with the following command:\n",
      "\u001b[36malgo-1-6otb5_1  |\u001b[0m \n",
      "\u001b[36malgo-1-6otb5_1  |\u001b[0m /usr/bin/python rnn-sin-sagemaker.py --batch-size 600 --epochs 15 --model_dir s3://sagemaker-us-east-1-748762807827/sagemaker-tensorflow-scriptmode-2019-04-24-15-59-37-598/model --validation_split 0.05\n",
      "\u001b[36malgo-1-6otb5_1  |\u001b[0m \n",
      "\u001b[36malgo-1-6otb5_1  |\u001b[0m \n",
      "\u001b[36malgo-1-6otb5_1  |\u001b[0m Using TensorFlow backend.\n",
      "\u001b[36malgo-1-6otb5_1  |\u001b[0m Train on 3501 samples, validate on 300 samples\n",
      "\u001b[36malgo-1-6otb5_1  |\u001b[0m Epoch 1/15\n",
      "3501/3501 [==============================] - 10s 3ms/step - loss: 0.2098 - val_loss: 0.0807\n",
      "\u001b[36malgo-1-6otb5_1  |\u001b[0m Epoch 2/15\n",
      "3501/3501 [==============================] - 8s 2ms/step - loss: 0.0296 - val_loss: 8.6018e-04\n",
      "\u001b[36malgo-1-6otb5_1  |\u001b[0m Epoch 3/15\n",
      "3501/3501 [==============================] - 8s 2ms/step - loss: 6.3930e-04 - val_loss: 0.0020\n",
      "\u001b[36malgo-1-6otb5_1  |\u001b[0m Epoch 4/15\n",
      "3501/3501 [==============================] - 8s 2ms/step - loss: 0.0147 - val_loss: 0.0015\n",
      "\u001b[36malgo-1-6otb5_1  |\u001b[0m Epoch 5/15\n",
      "3501/3501 [==============================] - 8s 2ms/step - loss: 0.0059 - val_loss: 0.0114\n",
      "\u001b[36malgo-1-6otb5_1  |\u001b[0m Epoch 6/15\n",
      "3501/3501 [==============================] - 8s 2ms/step - loss: 0.0106 - val_loss: 0.0069\n",
      "\u001b[36malgo-1-6otb5_1  |\u001b[0m Epoch 7/15\n",
      "3501/3501 [==============================] - 8s 2ms/step - loss: 0.0074 - val_loss: 0.0069\n",
      "\u001b[36malgo-1-6otb5_1  |\u001b[0m Epoch 8/15\n",
      "3501/3501 [==============================] - 8s 2ms/step - loss: 0.0092 - val_loss: 0.0068\n",
      "\u001b[36malgo-1-6otb5_1  |\u001b[0m Epoch 9/15\n",
      "3501/3501 [==============================] - 8s 2ms/step - loss: 0.0066 - val_loss: 0.0084\n",
      "\u001b[36malgo-1-6otb5_1  |\u001b[0m Epoch 10/15\n",
      "3501/3501 [==============================] - 8s 2ms/step - loss: 0.0079 - val_loss: 0.0032\n",
      "\u001b[36malgo-1-6otb5_1  |\u001b[0m Epoch 11/15\n",
      "3501/3501 [==============================] - 8s 2ms/step - loss: 0.0067 - val_loss: 0.0105\n",
      "\u001b[36malgo-1-6otb5_1  |\u001b[0m Epoch 12/15\n",
      "3501/3501 [==============================] - 10s 3ms/step - loss: 0.0073 - val_loss: 0.0019\n",
      "\u001b[36malgo-1-6otb5_1  |\u001b[0m Epoch 13/15\n",
      "3501/3501 [==============================] - 8s 2ms/step - loss: 0.0032 - val_loss: 0.0094\n",
      "\u001b[36malgo-1-6otb5_1  |\u001b[0m Epoch 14/15\n",
      "3501/3501 [==============================] - 8s 2ms/step - loss: 0.0095 - val_loss: 0.0059\n",
      "\u001b[36malgo-1-6otb5_1  |\u001b[0m Epoch 15/15\n",
      "3501/3501 [==============================] - 9s 2ms/step - loss: 0.0066 - val_loss: 0.0034\n",
      "\u001b[36malgo-1-6otb5_1  |\u001b[0m WARNING:tensorflow:From /usr/local/lib/python3.6/dist-packages/tensorflow/python/saved_model/simple_save.py:85: calling SavedModelBuilder.add_meta_graph_and_variables (from tensorflow.python.saved_model.builder_impl) with legacy_init_op is deprecated and will be removed in a future version.\n",
      "\u001b[36malgo-1-6otb5_1  |\u001b[0m Instructions for updating:\n",
      "\u001b[36malgo-1-6otb5_1  |\u001b[0m Pass your op to the equivalent parameter main_op instead.\n",
      "\u001b[36malgo-1-6otb5_1  |\u001b[0m 2019-04-24 16:02:25,806 sagemaker-containers INFO     Reporting training SUCCESS\n",
      "\u001b[36mtmpc9dsljye_algo-1-6otb5_1 exited with code 0\n",
      "\u001b[0mAborting on container exit...\n",
      "===== Job Complete =====\n"
     ]
    }
   ],
   "source": [
    "from sagemaker.tensorflow import TensorFlow\n",
    "from sagemaker import get_execution_role\n",
    "\n",
    "role = get_execution_role()\n",
    "\n",
    "train_instance_type = 'local'\n",
    "\n",
    "estimator = TensorFlow(\n",
    "    entry_point = \"./rnn-sin-sagemaker.py\",\n",
    "    role=role,\n",
    "    train_instance_count=1,\n",
    "    train_instance_type=train_instance_type,\n",
    "    framework_version=\"1.12.0\",\n",
    "    py_version='py3',\n",
    "    script_mode=True,\n",
    "    hyperparameters={'batch-size': 600,\n",
    "                     'validation_split': 0.05,\n",
    "                     'epochs': 15})\n",
    "\n",
    "estimator.fit(input_data)"
   ]
  },
  {
   "cell_type": "code",
   "execution_count": 10,
   "metadata": {},
   "outputs": [
    {
     "name": "stderr",
     "output_type": "stream",
     "text": [
      "INFO:sagemaker:Creating model with name: sagemaker-tensorflow-scriptmode-2019-04-24-15-59-37-598\n",
      "INFO:sagemaker:Creating endpoint with name sagemaker-tensorflow-scriptmode-2019-04-24-15-59-37-598\n",
      "WARNING:urllib3.connectionpool:Retrying (Retry(total=2, connect=None, read=None, redirect=None, status=None)) after connection broken by 'NewConnectionError('<urllib3.connection.HTTPConnection object at 0x7fe97c473710>: Failed to establish a new connection: [Errno 111] Connection refused',)': /ping\n",
      "WARNING:urllib3.connectionpool:Retrying (Retry(total=1, connect=None, read=None, redirect=None, status=None)) after connection broken by 'NewConnectionError('<urllib3.connection.HTTPConnection object at 0x7fe97c473e48>: Failed to establish a new connection: [Errno 111] Connection refused',)': /ping\n",
      "WARNING:urllib3.connectionpool:Retrying (Retry(total=0, connect=None, read=None, redirect=None, status=None)) after connection broken by 'NewConnectionError('<urllib3.connection.HTTPConnection object at 0x7fe97c4736d8>: Failed to establish a new connection: [Errno 111] Connection refused',)': /ping\n"
     ]
    },
    {
     "name": "stdout",
     "output_type": "stream",
     "text": [
      "Attaching to tmpzoe_rbtd_algo-1-1wtjs_1\n",
      "\u001b[36malgo-1-1wtjs_1  |\u001b[0m INFO:__main__:starting services\n",
      "\u001b[36malgo-1-1wtjs_1  |\u001b[0m INFO:__main__:using default model name: model\n",
      "\u001b[36malgo-1-1wtjs_1  |\u001b[0m INFO:__main__:tensorflow serving model config: \n",
      "\u001b[36malgo-1-1wtjs_1  |\u001b[0m model_config_list: {\n",
      "\u001b[36malgo-1-1wtjs_1  |\u001b[0m   config: {\n",
      "\u001b[36malgo-1-1wtjs_1  |\u001b[0m     name: \"model\",\n",
      "\u001b[36malgo-1-1wtjs_1  |\u001b[0m     base_path: \"/opt/ml/model/model\",\n",
      "\u001b[36malgo-1-1wtjs_1  |\u001b[0m     model_platform: \"tensorflow\"\n",
      "\u001b[36malgo-1-1wtjs_1  |\u001b[0m   },\n",
      "\u001b[36malgo-1-1wtjs_1  |\u001b[0m }\n",
      "\u001b[36malgo-1-1wtjs_1  |\u001b[0m \n",
      "\u001b[36malgo-1-1wtjs_1  |\u001b[0m \n",
      "\u001b[36malgo-1-1wtjs_1  |\u001b[0m INFO:__main__:nginx config: \n",
      "\u001b[36malgo-1-1wtjs_1  |\u001b[0m load_module modules/ngx_http_js_module.so;\n",
      "\u001b[36malgo-1-1wtjs_1  |\u001b[0m \n",
      "\u001b[36malgo-1-1wtjs_1  |\u001b[0m worker_processes auto;\n",
      "\u001b[36malgo-1-1wtjs_1  |\u001b[0m daemon off;\n",
      "\u001b[36malgo-1-1wtjs_1  |\u001b[0m pid /tmp/nginx.pid;\n",
      "\u001b[36malgo-1-1wtjs_1  |\u001b[0m error_log  /dev/stderr info;\n",
      "\u001b[36malgo-1-1wtjs_1  |\u001b[0m \n",
      "\u001b[36malgo-1-1wtjs_1  |\u001b[0m worker_rlimit_nofile 4096;\n",
      "\u001b[36malgo-1-1wtjs_1  |\u001b[0m \n",
      "\u001b[36malgo-1-1wtjs_1  |\u001b[0m events {\n",
      "\u001b[36malgo-1-1wtjs_1  |\u001b[0m   worker_connections 2048;\n",
      "\u001b[36malgo-1-1wtjs_1  |\u001b[0m }\n",
      "\u001b[36malgo-1-1wtjs_1  |\u001b[0m \n",
      "\u001b[36malgo-1-1wtjs_1  |\u001b[0m http {\n",
      "\u001b[36malgo-1-1wtjs_1  |\u001b[0m   include /etc/nginx/mime.types;\n",
      "\u001b[36malgo-1-1wtjs_1  |\u001b[0m   default_type application/json;\n",
      "\u001b[36malgo-1-1wtjs_1  |\u001b[0m   access_log /dev/stdout combined;\n",
      "\u001b[36malgo-1-1wtjs_1  |\u001b[0m   js_include tensorflow-serving.js;\n",
      "\u001b[36malgo-1-1wtjs_1  |\u001b[0m \n",
      "\u001b[36malgo-1-1wtjs_1  |\u001b[0m   upstream tfs_upstream {\n",
      "\u001b[36malgo-1-1wtjs_1  |\u001b[0m     server localhost:8501;\n",
      "\u001b[36malgo-1-1wtjs_1  |\u001b[0m   }\n",
      "\u001b[36malgo-1-1wtjs_1  |\u001b[0m \n",
      "\u001b[36malgo-1-1wtjs_1  |\u001b[0m   server {\n",
      "\u001b[36malgo-1-1wtjs_1  |\u001b[0m     listen 8080 deferred;\n",
      "\u001b[36malgo-1-1wtjs_1  |\u001b[0m     client_max_body_size 0;\n",
      "\u001b[36malgo-1-1wtjs_1  |\u001b[0m     client_body_buffer_size 100m;\n",
      "\u001b[36malgo-1-1wtjs_1  |\u001b[0m     subrequest_output_buffer_size 100m;\n",
      "\u001b[36malgo-1-1wtjs_1  |\u001b[0m \n",
      "\u001b[36malgo-1-1wtjs_1  |\u001b[0m     set $tfs_version 1.12;\n",
      "\u001b[36malgo-1-1wtjs_1  |\u001b[0m     set $default_tfs_model model;\n",
      "\u001b[36malgo-1-1wtjs_1  |\u001b[0m \n",
      "\u001b[36malgo-1-1wtjs_1  |\u001b[0m     location /tfs {\n",
      "\u001b[36malgo-1-1wtjs_1  |\u001b[0m         rewrite ^/tfs/(.*) /$1  break;\n",
      "\u001b[36malgo-1-1wtjs_1  |\u001b[0m         proxy_redirect off;\n",
      "\u001b[36malgo-1-1wtjs_1  |\u001b[0m         proxy_pass_request_headers off;\n",
      "\u001b[36malgo-1-1wtjs_1  |\u001b[0m         proxy_set_header Content-Type 'application/json';\n",
      "\u001b[36malgo-1-1wtjs_1  |\u001b[0m         proxy_set_header Accept 'application/json';\n",
      "\u001b[36malgo-1-1wtjs_1  |\u001b[0m         proxy_pass http://tfs_upstream;\n",
      "\u001b[36malgo-1-1wtjs_1  |\u001b[0m     }\n",
      "\u001b[36malgo-1-1wtjs_1  |\u001b[0m \n",
      "\u001b[36malgo-1-1wtjs_1  |\u001b[0m     location /ping {\n",
      "\u001b[36malgo-1-1wtjs_1  |\u001b[0m         js_content ping;\n",
      "\u001b[36malgo-1-1wtjs_1  |\u001b[0m     }\n",
      "\u001b[36malgo-1-1wtjs_1  |\u001b[0m \n",
      "\u001b[36malgo-1-1wtjs_1  |\u001b[0m     location /invocations {\n",
      "\u001b[36malgo-1-1wtjs_1  |\u001b[0m         js_content invocations;\n",
      "\u001b[36malgo-1-1wtjs_1  |\u001b[0m     }\n",
      "\u001b[36malgo-1-1wtjs_1  |\u001b[0m \n",
      "\u001b[36malgo-1-1wtjs_1  |\u001b[0m     location / {\n",
      "\u001b[36malgo-1-1wtjs_1  |\u001b[0m         return 404 '{\"error\": \"Not Found\"}';\n",
      "\u001b[36malgo-1-1wtjs_1  |\u001b[0m     }\n",
      "\u001b[36malgo-1-1wtjs_1  |\u001b[0m \n",
      "\u001b[36malgo-1-1wtjs_1  |\u001b[0m     keepalive_timeout 3;\n",
      "\u001b[36malgo-1-1wtjs_1  |\u001b[0m   }\n",
      "\u001b[36malgo-1-1wtjs_1  |\u001b[0m }\n",
      "\u001b[36malgo-1-1wtjs_1  |\u001b[0m \n",
      "\u001b[36malgo-1-1wtjs_1  |\u001b[0m \n",
      "\u001b[36malgo-1-1wtjs_1  |\u001b[0m INFO:__main__:tensorflow version info:\n",
      "\u001b[36malgo-1-1wtjs_1  |\u001b[0m TensorFlow ModelServer: 1.12.0-rc0+dev.sha.87470f0\n",
      "\u001b[36malgo-1-1wtjs_1  |\u001b[0m TensorFlow Library: 1.12.0\n",
      "\u001b[36malgo-1-1wtjs_1  |\u001b[0m INFO:__main__:tensorflow serving command: tensorflow_model_server --port=9000 --rest_api_port=8501 --model_config_file=/sagemaker/model-config.cfg\n",
      "\u001b[36malgo-1-1wtjs_1  |\u001b[0m INFO:__main__:started tensorflow serving (pid: 10)\n",
      "\u001b[36malgo-1-1wtjs_1  |\u001b[0m INFO:__main__:nginx version info:\n",
      "\u001b[36malgo-1-1wtjs_1  |\u001b[0m nginx version: nginx/1.14.2\n",
      "\u001b[36malgo-1-1wtjs_1  |\u001b[0m built by gcc 5.4.0 20160609 (Ubuntu 5.4.0-6ubuntu1~16.04.9) \n",
      "\u001b[36malgo-1-1wtjs_1  |\u001b[0m built with OpenSSL 1.0.2g  1 Mar 2016\n",
      "\u001b[36malgo-1-1wtjs_1  |\u001b[0m TLS SNI support enabled\n",
      "\u001b[36malgo-1-1wtjs_1  |\u001b[0m configure arguments: --prefix=/etc/nginx --sbin-path=/usr/sbin/nginx --modules-path=/usr/lib/nginx/modules --conf-path=/etc/nginx/nginx.conf --error-log-path=/var/log/nginx/error.log --http-log-path=/var/log/nginx/access.log --pid-path=/var/run/nginx.pid --lock-path=/var/run/nginx.lock --http-client-body-temp-path=/var/cache/nginx/client_temp --http-proxy-temp-path=/var/cache/nginx/proxy_temp --http-fastcgi-temp-path=/var/cache/nginx/fastcgi_temp --http-uwsgi-temp-path=/var/cache/nginx/uwsgi_temp --http-scgi-temp-path=/var/cache/nginx/scgi_temp --user=nginx --group=nginx --with-compat --with-file-aio --with-threads --with-http_addition_module --with-http_auth_request_module --with-http_dav_module --with-http_flv_module --with-http_gunzip_module --with-http_gzip_static_module --with-http_mp4_module --with-http_random_index_module --with-http_realip_module --with-http_secure_link_module --with-http_slice_module --with-http_ssl_module --with-http_stub_status_module --with-http_sub_module --with-http_v2_module --with-mail --with-mail_ssl_module --with-stream --with-stream_realip_module --with-stream_ssl_module --with-stream_ssl_preread_module --with-cc-opt='-g -O2 -fstack-protector-strong -Wformat -Werror=format-security -Wp,-D_FORTIFY_SOURCE=2 -fPIC' --with-ld-opt='-Wl,-Bsymbolic-functions -Wl,-z,relro -Wl,-z,now -Wl,--as-needed -pie'\n",
      "\u001b[36malgo-1-1wtjs_1  |\u001b[0m INFO:__main__:started nginx (pid: 12)\n",
      "\u001b[36malgo-1-1wtjs_1  |\u001b[0m 2019/04/24 16:02:38 [notice] 12#12: using the \"epoll\" event method\n",
      "\u001b[36malgo-1-1wtjs_1  |\u001b[0m 2019/04/24 16:02:38 [notice] 12#12: nginx/1.14.2\n",
      "\u001b[36malgo-1-1wtjs_1  |\u001b[0m 2019/04/24 16:02:38 [notice] 12#12: built by gcc 5.4.0 20160609 (Ubuntu 5.4.0-6ubuntu1~16.04.9) \n",
      "\u001b[36malgo-1-1wtjs_1  |\u001b[0m 2019/04/24 16:02:38 [notice] 12#12: OS: Linux 4.14.109-80.92.amzn1.x86_64\n",
      "\u001b[36malgo-1-1wtjs_1  |\u001b[0m 2019/04/24 16:02:38 [notice] 12#12: getrlimit(RLIMIT_NOFILE): 1024:4096\n",
      "\u001b[36malgo-1-1wtjs_1  |\u001b[0m 2019/04/24 16:02:38 [notice] 12#12: start worker processes\n",
      "\u001b[36malgo-1-1wtjs_1  |\u001b[0m 2019/04/24 16:02:38 [notice] 12#12: start worker process 13\n",
      "\u001b[36malgo-1-1wtjs_1  |\u001b[0m 2019/04/24 16:02:38 [notice] 12#12: start worker process 14\n",
      "\u001b[36malgo-1-1wtjs_1  |\u001b[0m 2019/04/24 16:02:38 [notice] 12#12: start worker process 15\n",
      "\u001b[36malgo-1-1wtjs_1  |\u001b[0m 2019/04/24 16:02:38 [notice] 12#12: start worker process 16\n",
      "\u001b[36malgo-1-1wtjs_1  |\u001b[0m 2019-04-24 16:02:38.392663: I tensorflow_serving/model_servers/server_core.cc:461] Adding/updating models.\n",
      "\u001b[36malgo-1-1wtjs_1  |\u001b[0m 2019-04-24 16:02:38.392702: I tensorflow_serving/model_servers/server_core.cc:558]  (Re-)adding model: model\n",
      "\u001b[36malgo-1-1wtjs_1  |\u001b[0m 2019-04-24 16:02:38.493135: I tensorflow_serving/core/basic_manager.cc:739] Successfully reserved resources to load servable {name: model version: 1}\n",
      "\u001b[36malgo-1-1wtjs_1  |\u001b[0m 2019-04-24 16:02:38.493179: I tensorflow_serving/core/loader_harness.cc:66] Approving load for servable version {name: model version: 1}\n",
      "\u001b[36malgo-1-1wtjs_1  |\u001b[0m 2019-04-24 16:02:38.493194: I tensorflow_serving/core/loader_harness.cc:74] Loading servable version {name: model version: 1}\n",
      "\u001b[36malgo-1-1wtjs_1  |\u001b[0m 2019-04-24 16:02:38.493221: I external/org_tensorflow/tensorflow/contrib/session_bundle/bundle_shim.cc:363] Attempting to load native SavedModelBundle in bundle-shim from: /opt/ml/model/model/1\n",
      "\u001b[36malgo-1-1wtjs_1  |\u001b[0m 2019-04-24 16:02:38.493239: I external/org_tensorflow/tensorflow/cc/saved_model/reader.cc:31] Reading SavedModel from: /opt/ml/model/model/1\n",
      "\u001b[36malgo-1-1wtjs_1  |\u001b[0m 2019-04-24 16:02:38.499945: I external/org_tensorflow/tensorflow/cc/saved_model/reader.cc:54] Reading meta graph with tags { serve }\n",
      "\u001b[36malgo-1-1wtjs_1  |\u001b[0m 2019-04-24 16:02:38.505886: I external/org_tensorflow/tensorflow/core/platform/cpu_feature_guard.cc:141] Your CPU supports instructions that this TensorFlow binary was not compiled to use: AVX2 FMA\n",
      "\u001b[36malgo-1-1wtjs_1  |\u001b[0m 2019-04-24 16:02:38.532953: I external/org_tensorflow/tensorflow/cc/saved_model/loader.cc:162] Restoring SavedModel bundle.\n",
      "\u001b[36malgo-1-1wtjs_1  |\u001b[0m 2019-04-24 16:02:38.546293: I external/org_tensorflow/tensorflow/cc/saved_model/loader.cc:138] Running MainOp with key legacy_init_op on SavedModel bundle.\n",
      "\u001b[36malgo-1-1wtjs_1  |\u001b[0m 2019-04-24 16:02:38.546339: I external/org_tensorflow/tensorflow/cc/saved_model/loader.cc:259] SavedModel load for tags { serve }; Status: success. Took 53093 microseconds.\n",
      "\u001b[36malgo-1-1wtjs_1  |\u001b[0m 2019-04-24 16:02:38.546379: I tensorflow_serving/servables/tensorflow/saved_model_warmup.cc:83] No warmup data file found at /opt/ml/model/model/1/assets.extra/tf_serving_warmup_requests\n",
      "\u001b[36malgo-1-1wtjs_1  |\u001b[0m 2019-04-24 16:02:38.546579: I tensorflow_serving/core/loader_harness.cc:86] Successfully loaded servable version {name: model version: 1}\n",
      "\u001b[36malgo-1-1wtjs_1  |\u001b[0m 2019-04-24 16:02:38.548259: I tensorflow_serving/model_servers/server.cc:286] Running gRPC ModelServer at 0.0.0.0:9000 ...\n",
      "\u001b[36malgo-1-1wtjs_1  |\u001b[0m [warn] getaddrinfo: address family for nodename not supported\n",
      "\u001b[36malgo-1-1wtjs_1  |\u001b[0m 2019-04-24 16:02:38.549017: I tensorflow_serving/model_servers/server.cc:302] Exporting HTTP/REST API at:localhost:8501 ...\n",
      "\u001b[36malgo-1-1wtjs_1  |\u001b[0m [evhttp_server.cc : 237] RAW: Entering the event loop ...\n",
      "!\u001b[36malgo-1-1wtjs_1  |\u001b[0m 172.18.0.1 - - [24/Apr/2019:16:02:39 +0000] \"GET /ping HTTP/1.1\" 200 0 \"-\" \"-\"\n"
     ]
    }
   ],
   "source": [
    "instance_type = 'local'\n",
    "\n",
    "predictor = estimator.deploy(instance_type=instance_type, initial_instance_count=1)"
   ]
  },
  {
   "cell_type": "code",
   "execution_count": 11,
   "metadata": {},
   "outputs": [
    {
     "name": "stdout",
     "output_type": "stream",
     "text": [
      "\u001b[36malgo-1-1wtjs_1  |\u001b[0m 172.18.0.1 - - [24/Apr/2019:16:02:45 +0000] \"POST /invocations HTTP/1.1\" 200 3712 \"-\" \"-\"\n"
     ]
    }
   ],
   "source": [
    "prediction = predictor.predict(X_test)"
   ]
  },
  {
   "cell_type": "code",
   "execution_count": 12,
   "metadata": {},
   "outputs": [
    {
     "data": {
      "text/plain": [
       "<matplotlib.axes._subplots.AxesSubplot at 0x7fe97c2e1d68>"
      ]
     },
     "execution_count": 12,
     "metadata": {},
     "output_type": "execute_result"
    },
    {
     "data": {
      "image/png": "[encoded data removed]",
      "text/plain": [
       "<Figure size 1080x360 with 1 Axes>"
      ]
     },
     "metadata": {},
     "output_type": "display_data"
    }
   ],
   "source": [
    "prediction['predictions']\n",
    "\n",
    "dataf =  pd.DataFrame(prediction['predictions'][:200])\n",
    "dataf.columns = [\"predict\"]\n",
    "dataf[\"input\"] = y_test[:200]\n",
    "dataf.plot(figsize=(15, 5))"
   ]
  },
  {
   "cell_type": "code",
   "execution_count": null,
   "metadata": {},
   "outputs": [
    {
     "name": "stderr",
     "output_type": "stream",
     "text": [
      "INFO:sagemaker:Created S3 bucket: sagemaker-us-east-1-748762807827\n",
      "INFO:sagemaker:Creating training-job with name: sagemaker-tensorflow-scriptmode-2019-04-24-16-04-59-221\n"
     ]
    },
    {
     "name": "stdout",
     "output_type": "stream",
     "text": [
      "2019-04-24 16:04:59 Starting - Starting the training job...\n",
      "2019-04-24 16:05:01 Starting - Launching requested ML instances......\n",
      "2019-04-24 16:06:23 Starting - Preparing the instances for training......"
     ]
    }
   ],
   "source": [
    "from sagemaker.tensorflow import TensorFlow\n",
    "from sagemaker import get_execution_role\n",
    "\n",
    "role = get_execution_role()\n",
    "\n",
    "train_instance_type = 'ml.m5.large'\n",
    "\n",
    "estimator = TensorFlow(\n",
    "    entry_point = \"./rnn-sin-sagemaker.py\",\n",
    "    role=role,\n",
    "    train_instance_count=1,\n",
    "    train_instance_type=train_instance_type,\n",
    "    framework_version=\"1.12.0\",\n",
    "    py_version='py3',\n",
    "    script_mode=True,\n",
    "    hyperparameters={'batch-size': 600,\n",
    "                     'validation_split': 0.05,\n",
    "                     'epochs': 15})\n",
    "\n",
    "estimator.fit(input_data)"
   ]
  },
  {
   "cell_type": "code",
   "execution_count": null,
   "metadata": {},
   "outputs": [],
   "source": [
    "instance_type = 'ml.t2.large'\n",
    "\n",
    "predictor = estimator.deploy(instance_type=instance_type, initial_instance_count=1)"
   ]
  }
 ],
 "metadata": {
  "kernelspec": {
   "display_name": "conda_tensorflow_p36",
   "language": "python",
   "name": "conda_tensorflow_p36"
  },
  "language_info": {
   "codemirror_mode": {
    "name": "ipython",
    "version": 3
   },
   "file_extension": ".py",
   "mimetype": "text/x-python",
   "name": "python",
   "nbconvert_exporter": "python",
   "pygments_lexer": "ipython3",
   "version": "3.6.5"
  }
 },
 "nbformat": 4,
 "nbformat_minor": 2
}
