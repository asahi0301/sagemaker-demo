{
 "cells": [
  {
   "cell_type": "markdown",
   "metadata": {},
   "source": [
    "# 一部説明をつけています"
   ]
  },
  {
   "cell_type": "code",
   "execution_count": 1,
   "metadata": {},
   "outputs": [
    {
     "data": {
      "text/plain": [
       "<matplotlib.axes._subplots.AxesSubplot at 0x7f51a0c80128>"
      ]
     },
     "execution_count": 1,
     "metadata": {},
     "output_type": "execute_result"
    },
    {
     "data": {
      "image/png": "[encoded data removed]",
      "text/plain": [
       "<Figure size 432x288 with 1 Axes>"
      ]
     },
     "metadata": {},
     "output_type": "display_data"
    }
   ],
   "source": [
    "import pandas as pd\n",
    "import numpy as np\n",
    "import math\n",
    "import random\n",
    "%matplotlib inline\n",
    "random.seed(0)\n",
    "# 乱数の係数\n",
    "random_factor = 0.05\n",
    "# サイクルあたりのステップ数\n",
    "steps_per_cycle = 80\n",
    "# 生成するサイクル数\n",
    "number_of_cycles = 50\n",
    "\n",
    "df = pd.DataFrame(np.arange(steps_per_cycle * number_of_cycles + 1), columns=[\"t\"])\n",
    "df[\"sin_t\"] = df.t.apply(lambda x: math.sin(x * (2 * math.pi / steps_per_cycle)+ random.uniform(-1.0, +1.0) * random_factor))\n",
    "df[[\"sin_t\"]].head(steps_per_cycle * 2).plot()"
   ]
  },
  {
   "cell_type": "code",
   "execution_count": 2,
   "metadata": {},
   "outputs": [],
   "source": [
    "def _load_data(data, n_prev = 100):  \n",
    "    \"\"\"\n",
    "    data should be pd.DataFrame()\n",
    "    \"\"\"\n",
    "\n",
    "    docX, docY = [], []\n",
    "    for i in range(len(data)-n_prev):\n",
    "        docX.append(data.iloc[i:i+n_prev].as_matrix())\n",
    "        docY.append(data.iloc[i+n_prev].as_matrix())\n",
    "    alsX = np.array(docX)\n",
    "    alsY = np.array(docY)\n",
    "\n",
    "    return alsX, alsY\n",
    "\n",
    "def train_test_split(df, test_size=0.1, n_prev = 100):  \n",
    "    \"\"\"\n",
    "    This just splits data to training and testing parts\n",
    "    \"\"\"\n",
    "    ntrn = round(len(df) * (1 - test_size))\n",
    "    ntrn = int(ntrn)\n",
    "    X_train, y_train = _load_data(df.iloc[0:ntrn], n_prev)\n",
    "    X_test, y_test = _load_data(df.iloc[ntrn:], n_prev)\n",
    "\n",
    "    return (X_train, y_train), (X_test, y_test)"
   ]
  },
  {
   "cell_type": "code",
   "execution_count": 3,
   "metadata": {},
   "outputs": [],
   "source": [
    "length_of_sequences = 100\n",
    "\n",
    "(X_train, y_train), (X_test, y_test) = train_test_split(df[[\"sin_t\"]], n_prev =length_of_sequences)  "
   ]
  },
  {
   "cell_type": "markdown",
   "metadata": {},
   "source": [
    "* dataディレクトリを作成して、trainingデータをローカルに保存します"
   ]
  },
  {
   "cell_type": "code",
   "execution_count": 16,
   "metadata": {},
   "outputs": [],
   "source": [
    "import os\n",
    "\n",
    "os.makedirs(\"./data\", exist_ok = True)\n",
    "\n",
    "np.save('./data/X_train.npy', X_train)\n",
    "np.save('./data/y_train.npy', y_train)"
   ]
  },
  {
   "cell_type": "markdown",
   "metadata": {},
   "source": [
    "* ローカルに保存したtrainingデータをS3にアップロードします\n",
    "* outputに保存先のS3のバケットとパスが表示されます\n",
    "* S3のマネジメントコンソールで見れば、X_train.npy  y_train.npy が保存されていることが確認できるはずです"
   ]
  },
  {
   "cell_type": "code",
   "execution_count": 5,
   "metadata": {},
   "outputs": [
    {
     "name": "stderr",
     "output_type": "stream",
     "text": [
      "INFO:sagemaker:Created S3 bucket: sagemaker-us-east-1-748762807827\n"
     ]
    },
    {
     "name": "stdout",
     "output_type": "stream",
     "text": [
      "Training data is uploaded to: s3://sagemaker-us-east-1-748762807827/dataset/keras-rnn-sin\n"
     ]
    }
   ],
   "source": [
    "import sagemaker\n",
    "sagemaker_session = sagemaker.Session()\n",
    "bucket_name = sagemaker_session.default_bucket()\n",
    "input_data = sagemaker_session.upload_data(path='./data', bucket=bucket_name, key_prefix='dataset/keras-rnn-sin')\n",
    "print('Training data is uploaded to: {}'.format(input_data))"
   ]
  },
  {
   "cell_type": "markdown",
   "metadata": {},
   "source": [
    "# localトレーニング\n",
    "* まずはnotebookインスタンス上でトレーニングを行います\n",
    "* train_instance_type = 'local' がポイントです"
   ]
  },
  {
   "cell_type": "code",
   "execution_count": 6,
   "metadata": {},
   "outputs": [
    {
     "name": "stderr",
     "output_type": "stream",
     "text": [
      "INFO:sagemaker:Created S3 bucket: sagemaker-us-east-1-748762807827\n",
      "INFO:sagemaker:Creating training-job with name: sagemaker-tensorflow-scriptmode-2019-04-25-01-23-54-128\n"
     ]
    },
    {
     "name": "stdout",
     "output_type": "stream",
     "text": [
      "Creating tmpikjgilxk_algo-1-6otb5_1 ... \n",
      "\u001b[1BAttaching to tmpikjgilxk_algo-1-6otb5_1\n",
      "\u001b[36malgo-1-6otb5_1  |\u001b[0m 2019-04-25 01:23:57,519 sagemaker-containers INFO     Imported framework sagemaker_tensorflow_container.training\n",
      "\u001b[36malgo-1-6otb5_1  |\u001b[0m 2019-04-25 01:23:57,524 sagemaker-containers INFO     No GPUs detected (normal if no gpus installed)\n",
      "\u001b[36malgo-1-6otb5_1  |\u001b[0m 2019-04-25 01:23:57,698 sagemaker-containers INFO     No GPUs detected (normal if no gpus installed)\n",
      "\u001b[36malgo-1-6otb5_1  |\u001b[0m 2019-04-25 01:23:57,716 sagemaker-containers INFO     No GPUs detected (normal if no gpus installed)\n",
      "\u001b[36malgo-1-6otb5_1  |\u001b[0m 2019-04-25 01:23:57,729 sagemaker-containers INFO     Invoking user script\n",
      "\u001b[36malgo-1-6otb5_1  |\u001b[0m \n",
      "\u001b[36malgo-1-6otb5_1  |\u001b[0m Training Env:\n",
      "\u001b[36malgo-1-6otb5_1  |\u001b[0m \n",
      "\u001b[36malgo-1-6otb5_1  |\u001b[0m {\n",
      "\u001b[36malgo-1-6otb5_1  |\u001b[0m     \"additional_framework_parameters\": {},\n",
      "\u001b[36malgo-1-6otb5_1  |\u001b[0m     \"channel_input_dirs\": {\n",
      "\u001b[36malgo-1-6otb5_1  |\u001b[0m         \"training\": \"/opt/ml/input/data/training\"\n",
      "\u001b[36malgo-1-6otb5_1  |\u001b[0m     },\n",
      "\u001b[36malgo-1-6otb5_1  |\u001b[0m     \"current_host\": \"algo-1-6otb5\",\n",
      "\u001b[36malgo-1-6otb5_1  |\u001b[0m     \"framework_module\": \"sagemaker_tensorflow_container.training:main\",\n",
      "\u001b[36malgo-1-6otb5_1  |\u001b[0m     \"hosts\": [\n",
      "\u001b[36malgo-1-6otb5_1  |\u001b[0m         \"algo-1-6otb5\"\n",
      "\u001b[36malgo-1-6otb5_1  |\u001b[0m     ],\n",
      "\u001b[36malgo-1-6otb5_1  |\u001b[0m     \"hyperparameters\": {\n",
      "\u001b[36malgo-1-6otb5_1  |\u001b[0m         \"batch-size\": 600,\n",
      "\u001b[36malgo-1-6otb5_1  |\u001b[0m         \"validation_split\": 0.05,\n",
      "\u001b[36malgo-1-6otb5_1  |\u001b[0m         \"epochs\": 15,\n",
      "\u001b[36malgo-1-6otb5_1  |\u001b[0m         \"model_dir\": \"s3://sagemaker-us-east-1-748762807827/sagemaker-tensorflow-scriptmode-2019-04-25-01-23-54-128/model\"\n",
      "\u001b[36malgo-1-6otb5_1  |\u001b[0m     },\n",
      "\u001b[36malgo-1-6otb5_1  |\u001b[0m     \"input_config_dir\": \"/opt/ml/input/config\",\n",
      "\u001b[36malgo-1-6otb5_1  |\u001b[0m     \"input_data_config\": {\n",
      "\u001b[36malgo-1-6otb5_1  |\u001b[0m         \"training\": {\n",
      "\u001b[36malgo-1-6otb5_1  |\u001b[0m             \"TrainingInputMode\": \"File\"\n",
      "\u001b[36malgo-1-6otb5_1  |\u001b[0m         }\n",
      "\u001b[36malgo-1-6otb5_1  |\u001b[0m     },\n",
      "\u001b[36malgo-1-6otb5_1  |\u001b[0m     \"input_dir\": \"/opt/ml/input\",\n",
      "\u001b[36malgo-1-6otb5_1  |\u001b[0m     \"is_master\": true,\n",
      "\u001b[36malgo-1-6otb5_1  |\u001b[0m     \"job_name\": \"sagemaker-tensorflow-scriptmode-2019-04-25-01-23-54-128\",\n",
      "\u001b[36malgo-1-6otb5_1  |\u001b[0m     \"log_level\": 20,\n",
      "\u001b[36malgo-1-6otb5_1  |\u001b[0m     \"master_hostname\": \"algo-1-6otb5\",\n",
      "\u001b[36malgo-1-6otb5_1  |\u001b[0m     \"model_dir\": \"/opt/ml/model\",\n",
      "\u001b[36malgo-1-6otb5_1  |\u001b[0m     \"module_dir\": \"s3://sagemaker-us-east-1-748762807827/sagemaker-tensorflow-scriptmode-2019-04-25-01-23-54-128/source/sourcedir.tar.gz\",\n",
      "\u001b[36malgo-1-6otb5_1  |\u001b[0m     \"module_name\": \"rnn-sin-sagemaker\",\n",
      "\u001b[36malgo-1-6otb5_1  |\u001b[0m     \"network_interface_name\": \"eth0\",\n",
      "\u001b[36malgo-1-6otb5_1  |\u001b[0m     \"num_cpus\": 4,\n",
      "\u001b[36malgo-1-6otb5_1  |\u001b[0m     \"num_gpus\": 0,\n",
      "\u001b[36malgo-1-6otb5_1  |\u001b[0m     \"output_data_dir\": \"/opt/ml/output/data\",\n",
      "\u001b[36malgo-1-6otb5_1  |\u001b[0m     \"output_dir\": \"/opt/ml/output\",\n",
      "\u001b[36malgo-1-6otb5_1  |\u001b[0m     \"output_intermediate_dir\": \"/opt/ml/output/intermediate\",\n",
      "\u001b[36malgo-1-6otb5_1  |\u001b[0m     \"resource_config\": {\n",
      "\u001b[36malgo-1-6otb5_1  |\u001b[0m         \"current_host\": \"algo-1-6otb5\",\n",
      "\u001b[36malgo-1-6otb5_1  |\u001b[0m         \"hosts\": [\n",
      "\u001b[36malgo-1-6otb5_1  |\u001b[0m             \"algo-1-6otb5\"\n",
      "\u001b[36malgo-1-6otb5_1  |\u001b[0m         ]\n",
      "\u001b[36malgo-1-6otb5_1  |\u001b[0m     },\n",
      "\u001b[36malgo-1-6otb5_1  |\u001b[0m     \"user_entry_point\": \"rnn-sin-sagemaker.py\"\n",
      "\u001b[36malgo-1-6otb5_1  |\u001b[0m }\n",
      "\u001b[36malgo-1-6otb5_1  |\u001b[0m \n",
      "\u001b[36malgo-1-6otb5_1  |\u001b[0m Environment variables:\n",
      "\u001b[36malgo-1-6otb5_1  |\u001b[0m \n",
      "\u001b[36malgo-1-6otb5_1  |\u001b[0m SM_HOSTS=[\"algo-1-6otb5\"]\n",
      "\u001b[36malgo-1-6otb5_1  |\u001b[0m SM_NETWORK_INTERFACE_NAME=eth0\n",
      "\u001b[36malgo-1-6otb5_1  |\u001b[0m SM_HPS={\"batch-size\":600,\"epochs\":15,\"model_dir\":\"s3://sagemaker-us-east-1-748762807827/sagemaker-tensorflow-scriptmode-2019-04-25-01-23-54-128/model\",\"validation_split\":0.05}\n",
      "\u001b[36malgo-1-6otb5_1  |\u001b[0m SM_USER_ENTRY_POINT=rnn-sin-sagemaker.py\n",
      "\u001b[36malgo-1-6otb5_1  |\u001b[0m SM_FRAMEWORK_PARAMS={}\n",
      "\u001b[36malgo-1-6otb5_1  |\u001b[0m SM_RESOURCE_CONFIG={\"current_host\":\"algo-1-6otb5\",\"hosts\":[\"algo-1-6otb5\"]}\n",
      "\u001b[36malgo-1-6otb5_1  |\u001b[0m SM_INPUT_DATA_CONFIG={\"training\":{\"TrainingInputMode\":\"File\"}}\n",
      "\u001b[36malgo-1-6otb5_1  |\u001b[0m SM_OUTPUT_DATA_DIR=/opt/ml/output/data\n",
      "\u001b[36malgo-1-6otb5_1  |\u001b[0m SM_CHANNELS=[\"training\"]\n",
      "\u001b[36malgo-1-6otb5_1  |\u001b[0m SM_CURRENT_HOST=algo-1-6otb5\n",
      "\u001b[36malgo-1-6otb5_1  |\u001b[0m SM_MODULE_NAME=rnn-sin-sagemaker\n",
      "\u001b[36malgo-1-6otb5_1  |\u001b[0m SM_LOG_LEVEL=20\n",
      "\u001b[36malgo-1-6otb5_1  |\u001b[0m SM_FRAMEWORK_MODULE=sagemaker_tensorflow_container.training:main\n",
      "\u001b[36malgo-1-6otb5_1  |\u001b[0m SM_INPUT_DIR=/opt/ml/input\n",
      "\u001b[36malgo-1-6otb5_1  |\u001b[0m SM_INPUT_CONFIG_DIR=/opt/ml/input/config\n",
      "\u001b[36malgo-1-6otb5_1  |\u001b[0m SM_OUTPUT_DIR=/opt/ml/output\n",
      "\u001b[36malgo-1-6otb5_1  |\u001b[0m SM_NUM_CPUS=4\n",
      "\u001b[36malgo-1-6otb5_1  |\u001b[0m SM_NUM_GPUS=0\n",
      "\u001b[36malgo-1-6otb5_1  |\u001b[0m SM_MODEL_DIR=/opt/ml/model\n",
      "\u001b[36malgo-1-6otb5_1  |\u001b[0m SM_MODULE_DIR=s3://sagemaker-us-east-1-748762807827/sagemaker-tensorflow-scriptmode-2019-04-25-01-23-54-128/source/sourcedir.tar.gz\n",
      "\u001b[36malgo-1-6otb5_1  |\u001b[0m SM_TRAINING_ENV={\"additional_framework_parameters\":{},\"channel_input_dirs\":{\"training\":\"/opt/ml/input/data/training\"},\"current_host\":\"algo-1-6otb5\",\"framework_module\":\"sagemaker_tensorflow_container.training:main\",\"hosts\":[\"algo-1-6otb5\"],\"hyperparameters\":{\"batch-size\":600,\"epochs\":15,\"model_dir\":\"s3://sagemaker-us-east-1-748762807827/sagemaker-tensorflow-scriptmode-2019-04-25-01-23-54-128/model\",\"validation_split\":0.05},\"input_config_dir\":\"/opt/ml/input/config\",\"input_data_config\":{\"training\":{\"TrainingInputMode\":\"File\"}},\"input_dir\":\"/opt/ml/input\",\"is_master\":true,\"job_name\":\"sagemaker-tensorflow-scriptmode-2019-04-25-01-23-54-128\",\"log_level\":20,\"master_hostname\":\"algo-1-6otb5\",\"model_dir\":\"/opt/ml/model\",\"module_dir\":\"s3://sagemaker-us-east-1-748762807827/sagemaker-tensorflow-scriptmode-2019-04-25-01-23-54-128/source/sourcedir.tar.gz\",\"module_name\":\"rnn-sin-sagemaker\",\"network_interface_name\":\"eth0\",\"num_cpus\":4,\"num_gpus\":0,\"output_data_dir\":\"/opt/ml/output/data\",\"output_dir\":\"/opt/ml/output\",\"output_intermediate_dir\":\"/opt/ml/output/intermediate\",\"resource_config\":{\"current_host\":\"algo-1-6otb5\",\"hosts\":[\"algo-1-6otb5\"]},\"user_entry_point\":\"rnn-sin-sagemaker.py\"}\n",
      "\u001b[36malgo-1-6otb5_1  |\u001b[0m SM_USER_ARGS=[\"--batch-size\",\"600\",\"--epochs\",\"15\",\"--model_dir\",\"s3://sagemaker-us-east-1-748762807827/sagemaker-tensorflow-scriptmode-2019-04-25-01-23-54-128/model\",\"--validation_split\",\"0.05\"]\n",
      "\u001b[36malgo-1-6otb5_1  |\u001b[0m SM_OUTPUT_INTERMEDIATE_DIR=/opt/ml/output/intermediate\n",
      "\u001b[36malgo-1-6otb5_1  |\u001b[0m SM_CHANNEL_TRAINING=/opt/ml/input/data/training\n",
      "\u001b[36malgo-1-6otb5_1  |\u001b[0m SM_HP_BATCH-SIZE=600\n",
      "\u001b[36malgo-1-6otb5_1  |\u001b[0m SM_HP_VALIDATION_SPLIT=0.05\n",
      "\u001b[36malgo-1-6otb5_1  |\u001b[0m SM_HP_EPOCHS=15\n",
      "\u001b[36malgo-1-6otb5_1  |\u001b[0m SM_HP_MODEL_DIR=s3://sagemaker-us-east-1-748762807827/sagemaker-tensorflow-scriptmode-2019-04-25-01-23-54-128/model\n",
      "\u001b[36malgo-1-6otb5_1  |\u001b[0m PYTHONPATH=/opt/ml/code:/usr/local/bin:/usr/lib/python36.zip:/usr/lib/python3.6:/usr/lib/python3.6/lib-dynload:/usr/local/lib/python3.6/dist-packages:/usr/lib/python3/dist-packages\n",
      "\u001b[36malgo-1-6otb5_1  |\u001b[0m \n",
      "\u001b[36malgo-1-6otb5_1  |\u001b[0m Invoking script with the following command:\n",
      "\u001b[36malgo-1-6otb5_1  |\u001b[0m \n",
      "\u001b[36malgo-1-6otb5_1  |\u001b[0m /usr/bin/python rnn-sin-sagemaker.py --batch-size 600 --epochs 15 --model_dir s3://sagemaker-us-east-1-748762807827/sagemaker-tensorflow-scriptmode-2019-04-25-01-23-54-128/model --validation_split 0.05\n",
      "\u001b[36malgo-1-6otb5_1  |\u001b[0m \n",
      "\u001b[36malgo-1-6otb5_1  |\u001b[0m \n",
      "\u001b[36malgo-1-6otb5_1  |\u001b[0m Using TensorFlow backend.\n",
      "\u001b[36malgo-1-6otb5_1  |\u001b[0m Train on 3325 samples, validate on 176 samples\n",
      "\u001b[36malgo-1-6otb5_1  |\u001b[0m Epoch 1/15\n",
      "3325/3325 [==============================] - 9s 3ms/step - loss: 0.2084 - val_loss: 0.0515\n",
      "\u001b[36malgo-1-6otb5_1  |\u001b[0m Epoch 2/15\n",
      "3325/3325 [==============================] - 7s 2ms/step - loss: 0.0434 - val_loss: 0.0064\n",
      "\u001b[36malgo-1-6otb5_1  |\u001b[0m Epoch 3/15\n",
      "3325/3325 [==============================] - 7s 2ms/step - loss: 0.0149 - val_loss: 0.0091\n",
      "\u001b[36malgo-1-6otb5_1  |\u001b[0m Epoch 4/15\n",
      "3325/3325 [==============================] - 7s 2ms/step - loss: 0.0125 - val_loss: 0.0112\n",
      "\u001b[36malgo-1-6otb5_1  |\u001b[0m Epoch 5/15\n",
      "3325/3325 [==============================] - 7s 2ms/step - loss: 0.0099 - val_loss: 0.0079\n",
      "\u001b[36malgo-1-6otb5_1  |\u001b[0m Epoch 6/15\n",
      "3325/3325 [==============================] - 7s 2ms/step - loss: 0.0086 - val_loss: 0.0151\n",
      "\u001b[36malgo-1-6otb5_1  |\u001b[0m Epoch 7/15\n",
      "3325/3325 [==============================] - 7s 2ms/step - loss: 0.0082 - val_loss: 0.0114\n",
      "\u001b[36malgo-1-6otb5_1  |\u001b[0m Epoch 8/15\n",
      "3325/3325 [==============================] - 7s 2ms/step - loss: 0.0081 - val_loss: 0.0067\n",
      "\u001b[36malgo-1-6otb5_1  |\u001b[0m Epoch 9/15\n",
      "3325/3325 [==============================] - 7s 2ms/step - loss: 0.0078 - val_loss: 0.0108\n",
      "\u001b[36malgo-1-6otb5_1  |\u001b[0m Epoch 10/15\n",
      "3325/3325 [==============================] - 7s 2ms/step - loss: 0.0144 - val_loss: 0.0120\n",
      "\u001b[36malgo-1-6otb5_1  |\u001b[0m Epoch 11/15\n",
      "3325/3325 [==============================] - 7s 2ms/step - loss: 0.0063 - val_loss: 7.4526e-04\n",
      "\u001b[36malgo-1-6otb5_1  |\u001b[0m Epoch 12/15\n",
      "3325/3325 [==============================] - 7s 2ms/step - loss: 7.2272e-04 - val_loss: 0.0056\n",
      "\u001b[36malgo-1-6otb5_1  |\u001b[0m Epoch 13/15\n",
      "3325/3325 [==============================] - 7s 2ms/step - loss: 0.0107 - val_loss: 7.7971e-04\n",
      "\u001b[36malgo-1-6otb5_1  |\u001b[0m Epoch 14/15\n",
      "3325/3325 [==============================] - 7s 2ms/step - loss: 8.3523e-04 - val_loss: 0.0024\n",
      "\u001b[36malgo-1-6otb5_1  |\u001b[0m Epoch 15/15\n",
      "3325/3325 [==============================] - 7s 2ms/step - loss: 0.0077 - val_loss: 0.0034\n",
      "\u001b[36malgo-1-6otb5_1  |\u001b[0m WARNING:tensorflow:From /usr/local/lib/python3.6/dist-packages/tensorflow/python/saved_model/simple_save.py:85: calling SavedModelBuilder.add_meta_graph_and_variables (from tensorflow.python.saved_model.builder_impl) with legacy_init_op is deprecated and will be removed in a future version.\n",
      "\u001b[36malgo-1-6otb5_1  |\u001b[0m Instructions for updating:\n",
      "\u001b[36malgo-1-6otb5_1  |\u001b[0m Pass your op to the equivalent parameter main_op instead.\n",
      "\u001b[36malgo-1-6otb5_1  |\u001b[0m 2019-04-25 01:25:51,638 sagemaker-containers INFO     Reporting training SUCCESS\n",
      "\u001b[36mtmpikjgilxk_algo-1-6otb5_1 exited with code 0\n",
      "\u001b[0mAborting on container exit...\n",
      "===== Job Complete =====\n"
     ]
    }
   ],
   "source": [
    "from sagemaker.tensorflow import TensorFlow\n",
    "from sagemaker import get_execution_role\n",
    "\n",
    "role = get_execution_role()\n",
    "\n",
    "train_instance_type = 'local'\n",
    "\n",
    "estimator = TensorFlow(\n",
    "    entry_point = \"./rnn-sin-sagemaker.py\",\n",
    "    role=role,\n",
    "    train_instance_count=1,\n",
    "    train_instance_type=train_instance_type,\n",
    "    framework_version=\"1.12.0\",\n",
    "    py_version='py3',\n",
    "    script_mode=True,\n",
    "    hyperparameters={'batch-size': 600,\n",
    "                     'validation_split': 0.05,\n",
    "                     'epochs': 15})\n",
    "\n",
    "estimator.fit(input_data)"
   ]
  },
  {
   "cell_type": "markdown",
   "metadata": {},
   "source": [
    "# ローカル上に推論エンドポイントを作成します\n",
    "* 同様に local になっているところがポイントです"
   ]
  },
  {
   "cell_type": "code",
   "execution_count": 18,
   "metadata": {},
   "outputs": [
    {
     "name": "stderr",
     "output_type": "stream",
     "text": [
      "INFO:sagemaker:Creating model with name: sagemaker-tensorflow-scriptmode-2019-04-25-01-26-06-493\n",
      "WARNING:sagemaker:Using already existing model: sagemaker-tensorflow-scriptmode-2019-04-25-01-26-06-493\n",
      "INFO:sagemaker:Creating endpoint with name sagemaker-tensorflow-scriptmode-2019-04-25-01-26-06-493\n"
     ]
    },
    {
     "name": "stdout",
     "output_type": "stream",
     "text": [
      "----------------------------------------------------------------------------!"
     ]
    }
   ],
   "source": [
    "instance_type = 'local'\n",
    "\n",
    "predictor = estimator.deploy(instance_type=instance_type, initial_instance_count=1)"
   ]
  },
  {
   "cell_type": "markdown",
   "metadata": {},
   "source": [
    "# ローカル上の推論エンドポイントにtest用データを投げて推論してみます"
   ]
  },
  {
   "cell_type": "code",
   "execution_count": 8,
   "metadata": {},
   "outputs": [
    {
     "name": "stdout",
     "output_type": "stream",
     "text": [
      "\u001b[36malgo-1-1wtjs_1  |\u001b[0m 2019/04/25 01:26:05 [info] 14#14: *1 client 172.18.0.1 closed keepalive connection\n",
      "\u001b[36malgo-1-1wtjs_1  |\u001b[0m 172.18.0.1 - - [25/Apr/2019:01:26:06 +0000] \"POST /invocations HTTP/1.1\" 200 3700 \"-\" \"-\"\n"
     ]
    }
   ],
   "source": [
    "prediction = predictor.predict(X_test)"
   ]
  },
  {
   "cell_type": "markdown",
   "metadata": {},
   "source": [
    "* 推論結果をplotします"
   ]
  },
  {
   "cell_type": "code",
   "execution_count": 19,
   "metadata": {},
   "outputs": [
    {
     "data": {
      "text/plain": [
       "<matplotlib.axes._subplots.AxesSubplot at 0x7f51760b7d68>"
      ]
     },
     "execution_count": 19,
     "metadata": {},
     "output_type": "execute_result"
    },
    {
     "data": {
      "image/png": "[encoded data removed]",
      "text/plain": [
       "<Figure size 1080x360 with 1 Axes>"
      ]
     },
     "metadata": {},
     "output_type": "display_data"
    }
   ],
   "source": [
    "dataf =  pd.DataFrame(prediction['predictions'][:200])\n",
    "dataf.columns = [\"predict\"]\n",
    "dataf[\"input\"] = y_test[:200]\n",
    "dataf.plot(figsize=(15, 5))"
   ]
  },
  {
   "cell_type": "markdown",
   "metadata": {},
   "source": [
    "# 以上でlocalの動作確認は終わりです。\n",
    "# 次に、トレーニングジョブを実行します\n",
    "* train_instance_type = 'ml.m5.large' で　MLインスタンスを選ぶと、トレーニングジョブが実行されます\n",
    "* outputにトレーニングジョブ名が出力されます。\n",
    "* SageMakerのマネジメントコンソールでトレーニングジョブの画面で、そのジョブ名で探すとジョブが立ち上がっているのが確認できるはず\n"
   ]
  },
  {
   "cell_type": "code",
   "execution_count": 20,
   "metadata": {},
   "outputs": [
    {
     "name": "stderr",
     "output_type": "stream",
     "text": [
      "INFO:sagemaker:Created S3 bucket: sagemaker-us-east-1-748762807827\n",
      "INFO:sagemaker:Creating training-job with name: sagemaker-tensorflow-scriptmode-2019-04-25-02-13-52-129\n"
     ]
    },
    {
     "name": "stdout",
     "output_type": "stream",
     "text": [
      "2019-04-25 02:13:52 Starting - Starting the training job...\n",
      "2019-04-25 02:13:55 Starting - Launching requested ML instances......\n",
      "2019-04-25 02:15:14 Starting - Preparing the instances for training.........\n",
      "2019-04-25 02:16:40 Downloading - Downloading input data\n",
      "2019-04-25 02:16:40 Training - Training image download completed. Training in progress.\n",
      "\u001b[31m2019-04-25 02:16:43,524 sagemaker-containers INFO     Imported framework sagemaker_tensorflow_container.training\u001b[0m\n",
      "\u001b[31m2019-04-25 02:16:43,531 sagemaker-containers INFO     No GPUs detected (normal if no gpus installed)\u001b[0m\n",
      "\u001b[31m2019-04-25 02:16:43,823 sagemaker-containers INFO     No GPUs detected (normal if no gpus installed)\u001b[0m\n",
      "\u001b[31m2019-04-25 02:16:43,840 sagemaker-containers INFO     No GPUs detected (normal if no gpus installed)\u001b[0m\n",
      "\u001b[31m2019-04-25 02:16:43,850 sagemaker-containers INFO     Invoking user script\n",
      "\u001b[0m\n",
      "\u001b[31mTraining Env:\n",
      "\u001b[0m\n",
      "\u001b[31m{\n",
      "    \"additional_framework_parameters\": {},\n",
      "    \"channel_input_dirs\": {\n",
      "        \"training\": \"/opt/ml/input/data/training\"\n",
      "    },\n",
      "    \"current_host\": \"algo-1\",\n",
      "    \"framework_module\": \"sagemaker_tensorflow_container.training:main\",\n",
      "    \"hosts\": [\n",
      "        \"algo-1\"\n",
      "    ],\n",
      "    \"hyperparameters\": {\n",
      "        \"batch-size\": 600,\n",
      "        \"model_dir\": \"s3://sagemaker-us-east-1-748762807827/sagemaker-tensorflow-scriptmode-2019-04-25-02-13-52-129/model\",\n",
      "        \"validation_split\": 0.05,\n",
      "        \"epochs\": 15\n",
      "    },\n",
      "    \"input_config_dir\": \"/opt/ml/input/config\",\n",
      "    \"input_data_config\": {\n",
      "        \"training\": {\n",
      "            \"TrainingInputMode\": \"File\",\n",
      "            \"S3DistributionType\": \"FullyReplicated\",\n",
      "            \"RecordWrapperType\": \"None\"\n",
      "        }\n",
      "    },\n",
      "    \"input_dir\": \"/opt/ml/input\",\n",
      "    \"is_master\": true,\n",
      "    \"job_name\": \"sagemaker-tensorflow-scriptmode-2019-04-25-02-13-52-129\",\n",
      "    \"log_level\": 20,\n",
      "    \"master_hostname\": \"algo-1\",\n",
      "    \"model_dir\": \"/opt/ml/model\",\n",
      "    \"module_dir\": \"s3://sagemaker-us-east-1-748762807827/sagemaker-tensorflow-scriptmode-2019-04-25-02-13-52-129/source/sourcedir.tar.gz\",\n",
      "    \"module_name\": \"rnn-sin-sagemaker\",\n",
      "    \"network_interface_name\": \"ethwe\",\n",
      "    \"num_cpus\": 2,\n",
      "    \"num_gpus\": 0,\n",
      "    \"output_data_dir\": \"/opt/ml/output/data\",\n",
      "    \"output_dir\": \"/opt/ml/output\",\n",
      "    \"output_intermediate_dir\": \"/opt/ml/output/intermediate\",\n",
      "    \"resource_config\": {\n",
      "        \"current_host\": \"algo-1\",\n",
      "        \"hosts\": [\n",
      "            \"algo-1\"\n",
      "        ],\n",
      "        \"network_interface_name\": \"ethwe\"\n",
      "    },\n",
      "    \"user_entry_point\": \"rnn-sin-sagemaker.py\"\u001b[0m\n",
      "\u001b[31m}\n",
      "\u001b[0m\n",
      "\u001b[31mEnvironment variables:\n",
      "\u001b[0m\n",
      "\u001b[31mSM_HOSTS=[\"algo-1\"]\u001b[0m\n",
      "\u001b[31mSM_NETWORK_INTERFACE_NAME=ethwe\u001b[0m\n",
      "\u001b[31mSM_HPS={\"batch-size\":600,\"epochs\":15,\"model_dir\":\"s3://sagemaker-us-east-1-748762807827/sagemaker-tensorflow-scriptmode-2019-04-25-02-13-52-129/model\",\"validation_split\":0.05}\u001b[0m\n",
      "\u001b[31mSM_USER_ENTRY_POINT=rnn-sin-sagemaker.py\u001b[0m\n",
      "\u001b[31mSM_FRAMEWORK_PARAMS={}\u001b[0m\n",
      "\u001b[31mSM_RESOURCE_CONFIG={\"current_host\":\"algo-1\",\"hosts\":[\"algo-1\"],\"network_interface_name\":\"ethwe\"}\u001b[0m\n",
      "\u001b[31mSM_INPUT_DATA_CONFIG={\"training\":{\"RecordWrapperType\":\"None\",\"S3DistributionType\":\"FullyReplicated\",\"TrainingInputMode\":\"File\"}}\u001b[0m\n",
      "\u001b[31mSM_OUTPUT_DATA_DIR=/opt/ml/output/data\u001b[0m\n",
      "\u001b[31mSM_CHANNELS=[\"training\"]\u001b[0m\n",
      "\u001b[31mSM_CURRENT_HOST=algo-1\u001b[0m\n",
      "\u001b[31mSM_MODULE_NAME=rnn-sin-sagemaker\u001b[0m\n",
      "\u001b[31mSM_LOG_LEVEL=20\u001b[0m\n",
      "\u001b[31mSM_FRAMEWORK_MODULE=sagemaker_tensorflow_container.training:main\u001b[0m\n",
      "\u001b[31mSM_INPUT_DIR=/opt/ml/input\u001b[0m\n",
      "\u001b[31mSM_INPUT_CONFIG_DIR=/opt/ml/input/config\u001b[0m\n",
      "\u001b[31mSM_OUTPUT_DIR=/opt/ml/output\u001b[0m\n",
      "\u001b[31mSM_NUM_CPUS=2\u001b[0m\n",
      "\u001b[31mSM_NUM_GPUS=0\u001b[0m\n",
      "\u001b[31mSM_MODEL_DIR=/opt/ml/model\u001b[0m\n",
      "\u001b[31mSM_MODULE_DIR=s3://sagemaker-us-east-1-748762807827/sagemaker-tensorflow-scriptmode-2019-04-25-02-13-52-129/source/sourcedir.tar.gz\u001b[0m\n",
      "\u001b[31mSM_TRAINING_ENV={\"additional_framework_parameters\":{},\"channel_input_dirs\":{\"training\":\"/opt/ml/input/data/training\"},\"current_host\":\"algo-1\",\"framework_module\":\"sagemaker_tensorflow_container.training:main\",\"hosts\":[\"algo-1\"],\"hyperparameters\":{\"batch-size\":600,\"epochs\":15,\"model_dir\":\"s3://sagemaker-us-east-1-748762807827/sagemaker-tensorflow-scriptmode-2019-04-25-02-13-52-129/model\",\"validation_split\":0.05},\"input_config_dir\":\"/opt/ml/input/config\",\"input_data_config\":{\"training\":{\"RecordWrapperType\":\"None\",\"S3DistributionType\":\"FullyReplicated\",\"TrainingInputMode\":\"File\"}},\"input_dir\":\"/opt/ml/input\",\"is_master\":true,\"job_name\":\"sagemaker-tensorflow-scriptmode-2019-04-25-02-13-52-129\",\"log_level\":20,\"master_hostname\":\"algo-1\",\"model_dir\":\"/opt/ml/model\",\"module_dir\":\"s3://sagemaker-us-east-1-748762807827/sagemaker-tensorflow-scriptmode-2019-04-25-02-13-52-129/source/sourcedir.tar.gz\",\"module_name\":\"rnn-sin-sagemaker\",\"network_interface_name\":\"ethwe\",\"num_cpus\":2,\"num_gpus\":0,\"output_data_dir\":\"/opt/ml/output/data\",\"output_dir\":\"/opt/ml/output\",\"output_intermediate_dir\":\"/opt/ml/output/intermediate\",\"resource_config\":{\"current_host\":\"algo-1\",\"hosts\":[\"algo-1\"],\"network_interface_name\":\"ethwe\"},\"user_entry_point\":\"rnn-sin-sagemaker.py\"}\u001b[0m\n",
      "\u001b[31mSM_USER_ARGS=[\"--batch-size\",\"600\",\"--epochs\",\"15\",\"--model_dir\",\"s3://sagemaker-us-east-1-748762807827/sagemaker-tensorflow-scriptmode-2019-04-25-02-13-52-129/model\",\"--validation_split\",\"0.05\"]\u001b[0m\n",
      "\u001b[31mSM_OUTPUT_INTERMEDIATE_DIR=/opt/ml/output/intermediate\u001b[0m\n",
      "\u001b[31mSM_CHANNEL_TRAINING=/opt/ml/input/data/training\u001b[0m\n",
      "\u001b[31mSM_HP_BATCH-SIZE=600\u001b[0m\n",
      "\u001b[31mSM_HP_MODEL_DIR=s3://sagemaker-us-east-1-748762807827/sagemaker-tensorflow-scriptmode-2019-04-25-02-13-52-129/model\u001b[0m\n",
      "\u001b[31mSM_HP_VALIDATION_SPLIT=0.05\u001b[0m\n",
      "\u001b[31mSM_HP_EPOCHS=15\u001b[0m\n",
      "\u001b[31mPYTHONPATH=/opt/ml/code:/usr/local/bin:/usr/lib/python36.zip:/usr/lib/python3.6:/usr/lib/python3.6/lib-dynload:/usr/local/lib/python3.6/dist-packages:/usr/lib/python3/dist-packages\n",
      "\u001b[0m\n",
      "\u001b[31mInvoking script with the following command:\n",
      "\u001b[0m\n",
      "\u001b[31m/usr/bin/python rnn-sin-sagemaker.py --batch-size 600 --epochs 15 --model_dir s3://sagemaker-us-east-1-748762807827/sagemaker-tensorflow-scriptmode-2019-04-25-02-13-52-129/model --validation_split 0.05\n",
      "\n",
      "\u001b[0m\n",
      "\u001b[31mUsing TensorFlow backend.\u001b[0m\n",
      "\u001b[31mTrain on 3325 samples, validate on 176 samples\u001b[0m\n",
      "\u001b[31mEpoch 1/15\u001b[0m\n",
      "\u001b[31m 600/3325 [====>.........................] - ETA: 20s - loss: 0.5425\u001b[0m\n",
      "\u001b[31m1200/3325 [=========>....................] - ETA: 12s - loss: 0.3591\u001b[0m\n",
      "\u001b[31m1800/3325 [===============>..............] - ETA: 8s - loss: 0.2834 \u001b[0m\n",
      "\u001b[31m2400/3325 [====================>.........] - ETA: 4s - loss: 0.2566\u001b[0m\n",
      "\u001b[31m3000/3325 [==========================>...] - ETA: 1s - loss: 0.2198\u001b[0m\n",
      "\u001b[31m3325/3325 [==============================] - 17s 5ms/step - loss: 0.2018 - val_loss: 0.0115\u001b[0m\n",
      "\u001b[31mEpoch 2/15\u001b[0m\n",
      "\u001b[31m 600/3325 [====>.........................] - ETA: 11s - loss: 0.0123\u001b[0m\n",
      "\u001b[31m1200/3325 [=========>....................] - ETA: 8s - loss: 0.0181 \u001b[0m\n",
      "\u001b[31m1800/3325 [===============>..............] - ETA: 6s - loss: 0.0491\u001b[0m\n",
      "\u001b[31m2400/3325 [====================>.........] - ETA: 3s - loss: 0.0407\u001b[0m\n",
      "\u001b[31m3000/3325 [==========================>...] - ETA: 1s - loss: 0.0336\u001b[0m\n",
      "\u001b[31m3325/3325 [==============================] - 14s 4ms/step - loss: 0.0304 - val_loss: 7.2511e-04\u001b[0m\n",
      "\u001b[31mEpoch 3/15\u001b[0m\n",
      "\u001b[31m 600/3325 [====>.........................] - ETA: 11s - loss: 6.6092e-04\u001b[0m\n",
      "\u001b[31m1200/3325 [=========>....................] - ETA: 9s - loss: 6.6563e-04 \u001b[0m\n",
      "\u001b[31m1800/3325 [===============>..............] - ETA: 6s - loss: 8.5387e-04\u001b[0m\n",
      "\u001b[31m2400/3325 [====================>.........] - ETA: 3s - loss: 0.0015    \u001b[0m\n",
      "\u001b[31m3000/3325 [==========================>...] - ETA: 1s - loss: 0.0046\u001b[0m\n",
      "\u001b[31m3325/3325 [==============================] - 15s 4ms/step - loss: 0.0086 - val_loss: 0.0792\u001b[0m\n",
      "\u001b[31mEpoch 4/15\u001b[0m\n",
      "\u001b[31m 600/3325 [====>.........................] - ETA: 11s - loss: 0.0832\u001b[0m\n",
      "\u001b[31m1200/3325 [=========>....................] - ETA: 8s - loss: 0.0483 \u001b[0m\n",
      "\u001b[31m1800/3325 [===============>..............] - ETA: 6s - loss: 0.0331\u001b[0m\n",
      "\u001b[31m2400/3325 [====================>.........] - ETA: 3s - loss: 0.0251\u001b[0m\n",
      "\u001b[31m3000/3325 [==========================>...] - ETA: 1s - loss: 0.0203\u001b[0m\n",
      "\u001b[31m3325/3325 [==============================] - 14s 4ms/step - loss: 0.0184 - val_loss: 0.0018\u001b[0m\n",
      "\u001b[31mEpoch 5/15\u001b[0m\n",
      "\u001b[31m 600/3325 [====>.........................] - ETA: 11s - loss: 0.0018\u001b[0m\n",
      "\u001b[31m1200/3325 [=========>....................] - ETA: 9s - loss: 0.0029 \u001b[0m\n",
      "\u001b[31m1800/3325 [===============>..............] - ETA: 6s - loss: 0.0043\u001b[0m\n",
      "\u001b[31m2400/3325 [====================>.........] - ETA: 3s - loss: 0.0079\u001b[0m\n",
      "\u001b[31m3000/3325 [==========================>...] - ETA: 1s - loss: 0.0088\u001b[0m\n",
      "\u001b[31m3325/3325 [==============================] - 15s 4ms/step - loss: 0.0103 - val_loss: 0.0085\u001b[0m\n",
      "\u001b[31mEpoch 6/15\u001b[0m\n",
      "\u001b[31m 600/3325 [====>.........................] - ETA: 11s - loss: 0.0081\u001b[0m\n",
      "\u001b[31m1200/3325 [=========>....................] - ETA: 9s - loss: 0.0115 \u001b[0m\n",
      "\u001b[31m1800/3325 [===============>..............] - ETA: 6s - loss: 0.0098\u001b[0m\n",
      "\u001b[31m2400/3325 [====================>.........] - ETA: 3s - loss: 0.0099\u001b[0m\n",
      "\u001b[31m3000/3325 [==========================>...] - ETA: 1s - loss: 0.0089\u001b[0m\n",
      "\u001b[31m3325/3325 [==============================] - 15s 4ms/step - loss: 0.0089 - val_loss: 0.0069\u001b[0m\n",
      "\u001b[31mEpoch 7/15\u001b[0m\n",
      "\u001b[31m 600/3325 [====>.........................] - ETA: 11s - loss: 0.0066\u001b[0m\n",
      "\u001b[31m1200/3325 [=========>....................] - ETA: 9s - loss: 0.0103 \u001b[0m\n",
      "\u001b[31m1800/3325 [===============>..............] - ETA: 6s - loss: 0.0095\u001b[0m\n",
      "\u001b[31m2400/3325 [====================>.........] - ETA: 3s - loss: 0.0105\u001b[0m\n",
      "\u001b[31m3000/3325 [==========================>...] - ETA: 1s - loss: 0.0092\u001b[0m\n",
      "\u001b[31m3325/3325 [==============================] - 15s 4ms/step - loss: 0.0090 - val_loss: 0.0032\u001b[0m\n",
      "\u001b[31mEpoch 8/15\u001b[0m\n",
      "\u001b[31m 600/3325 [====>.........................] - ETA: 11s - loss: 0.0031\u001b[0m\n",
      "\u001b[31m1200/3325 [=========>....................] - ETA: 9s - loss: 0.0044 \u001b[0m\n",
      "\u001b[31m1800/3325 [===============>..............] - ETA: 6s - loss: 0.0045\u001b[0m\n",
      "\u001b[31m2400/3325 [====================>.........] - ETA: 3s - loss: 0.0054\u001b[0m\n",
      "\u001b[31m3000/3325 [==========================>...] - ETA: 1s - loss: 0.0046\u001b[0m\n",
      "\u001b[31m3325/3325 [==============================] - 14s 4ms/step - loss: 0.0082 - val_loss: 0.0146\u001b[0m\n",
      "\u001b[31mEpoch 9/15\u001b[0m\n",
      "\u001b[31m 600/3325 [====>.........................] - ETA: 11s - loss: 0.0155\u001b[0m\n",
      "\u001b[31m1200/3325 [=========>....................] - ETA: 8s - loss: 0.0097 \u001b[0m\n",
      "\u001b[31m1800/3325 [===============>..............] - ETA: 6s - loss: 0.0102\u001b[0m\n",
      "\u001b[31m2400/3325 [====================>.........] - ETA: 3s - loss: 0.0156\u001b[0m\n",
      "\u001b[31m3000/3325 [==========================>...] - ETA: 1s - loss: 0.0166\u001b[0m\n",
      "\u001b[31m3325/3325 [==============================] - 15s 4ms/step - loss: 0.0166 - val_loss: 0.0042\u001b[0m\n",
      "\u001b[31mEpoch 10/15\u001b[0m\n",
      "\u001b[31m 600/3325 [====>.........................] - ETA: 11s - loss: 0.0042\u001b[0m\n",
      "\u001b[31m1200/3325 [=========>....................] - ETA: 9s - loss: 0.0048 \u001b[0m\n",
      "\u001b[31m1800/3325 [===============>..............] - ETA: 6s - loss: 0.0048\u001b[0m\n",
      "\u001b[31m2400/3325 [====================>.........] - ETA: 3s - loss: 0.0055\u001b[0m\n",
      "\u001b[31m3000/3325 [==========================>...] - ETA: 1s - loss: 0.0055\u001b[0m\n",
      "\u001b[31m3325/3325 [==============================] - 15s 4ms/step - loss: 0.0059 - val_loss: 0.0072\u001b[0m\n",
      "\u001b[31mEpoch 11/15\u001b[0m\n",
      "\u001b[31m 600/3325 [====>.........................] - ETA: 11s - loss: 0.0066\u001b[0m\n",
      "\u001b[31m1200/3325 [=========>....................] - ETA: 9s - loss: 0.0088 \u001b[0m\n",
      "\u001b[31m1800/3325 [===============>..............] - ETA: 6s - loss: 0.0081\u001b[0m\n",
      "\u001b[31m2400/3325 [====================>.........] - ETA: 3s - loss: 0.0090\u001b[0m\n",
      "\u001b[31m3000/3325 [==========================>...] - ETA: 1s - loss: 0.0084\u001b[0m\n",
      "\u001b[31m3325/3325 [==============================] - 15s 4ms/step - loss: 0.0083 - val_loss: 0.0066\u001b[0m\n",
      "\u001b[31mEpoch 12/15\u001b[0m\n",
      "\u001b[31m 600/3325 [====>.........................] - ETA: 11s - loss: 0.0057\u001b[0m\n",
      "\u001b[31m1200/3325 [=========>....................] - ETA: 8s - loss: 0.0058 \u001b[0m\n",
      "\u001b[31m1800/3325 [===============>..............] - ETA: 6s - loss: 0.0061\u001b[0m\n",
      "\u001b[31m2400/3325 [====================>.........] - ETA: 3s - loss: 0.0074\u001b[0m\n",
      "\u001b[31m3000/3325 [==========================>...] - ETA: 1s - loss: 0.0075\u001b[0m\n",
      "\u001b[31m3325/3325 [==============================] - 14s 4ms/step - loss: 0.0080 - val_loss: 0.0062\u001b[0m\n",
      "\u001b[31mEpoch 13/15\u001b[0m\n",
      "\u001b[31m 600/3325 [====>.........................] - ETA: 11s - loss: 0.0060\u001b[0m\n",
      "\u001b[31m1200/3325 [=========>....................] - ETA: 9s - loss: 0.0071 \u001b[0m\n",
      "\u001b[31m1800/3325 [===============>..............] - ETA: 6s - loss: 0.0068\u001b[0m\n",
      "\u001b[31m2400/3325 [====================>.........] - ETA: 3s - loss: 0.0076\u001b[0m\n",
      "\u001b[31m3000/3325 [==========================>...] - ETA: 1s - loss: 0.0071\u001b[0m\n",
      "\u001b[31m3325/3325 [==============================] - 15s 4ms/step - loss: 0.0072 - val_loss: 0.0056\u001b[0m\n",
      "\u001b[31mEpoch 14/15\u001b[0m\n",
      "\u001b[31m 600/3325 [====>.........................] - ETA: 11s - loss: 0.0059\u001b[0m\n",
      "\u001b[31m1200/3325 [=========>....................] - ETA: 9s - loss: 0.0076 \u001b[0m\n",
      "\u001b[31m1800/3325 [===============>..............] - ETA: 6s - loss: 0.0066\u001b[0m\n",
      "\u001b[31m2400/3325 [====================>.........] - ETA: 3s - loss: 0.0070\u001b[0m\n",
      "\u001b[31m3000/3325 [==========================>...] - ETA: 1s - loss: 0.0068\u001b[0m\n",
      "\u001b[31m3325/3325 [==============================] - 15s 4ms/step - loss: 0.0071 - val_loss: 0.0035\u001b[0m\n",
      "\u001b[31mEpoch 15/15\u001b[0m\n",
      "\u001b[31m 600/3325 [====>.........................] - ETA: 11s - loss: 0.0034\u001b[0m\n",
      "\u001b[31m1200/3325 [=========>....................] - ETA: 9s - loss: 0.0049 \u001b[0m\n",
      "\u001b[31m1800/3325 [===============>..............] - ETA: 6s - loss: 0.0051\u001b[0m\n",
      "\u001b[31m2400/3325 [====================>.........] - ETA: 3s - loss: 0.0065\u001b[0m\n",
      "\u001b[31m3000/3325 [==========================>...] - ETA: 1s - loss: 0.0063\u001b[0m\n",
      "\u001b[31m3325/3325 [==============================] - 15s 4ms/step - loss: 0.0065 - val_loss: 0.0057\u001b[0m\n",
      "\u001b[31mWARNING:tensorflow:From /usr/local/lib/python3.6/dist-packages/tensorflow/python/saved_model/simple_save.py:85: calling SavedModelBuilder.add_meta_graph_and_variables (from tensorflow.python.saved_model.builder_impl) with legacy_init_op is deprecated and will be removed in a future version.\u001b[0m\n",
      "\u001b[31mInstructions for updating:\u001b[0m\n",
      "\u001b[31mPass your op to the equivalent parameter main_op instead.\u001b[0m\n",
      "\u001b[31m2019-04-25 02:20:27,466 sagemaker-containers INFO     Reporting training SUCCESS\u001b[0m\n",
      "\n",
      "2019-04-25 02:20:35 Uploading - Uploading generated training model\n",
      "2019-04-25 02:20:35 Completed - Training job completed\n",
      "Billable seconds: 248\n"
     ]
    }
   ],
   "source": [
    "from sagemaker.tensorflow import TensorFlow\n",
    "from sagemaker import get_execution_role\n",
    "\n",
    "role = get_execution_role()\n",
    "\n",
    "train_instance_type = 'ml.m5.large'\n",
    "\n",
    "estimator = TensorFlow(\n",
    "    entry_point = \"./rnn-sin-sagemaker.py\",\n",
    "    role=role,\n",
    "    train_instance_count=1,\n",
    "    train_instance_type=train_instance_type,\n",
    "    framework_version=\"1.12.0\",\n",
    "    py_version='py3',\n",
    "    script_mode=True,\n",
    "    hyperparameters={'batch-size': 600,\n",
    "                     'validation_split': 0.05,\n",
    "                     'epochs': 15})\n",
    "\n",
    "estimator.fit(input_data)"
   ]
  },
  {
   "cell_type": "markdown",
   "metadata": {},
   "source": [
    "* Completed - Training job completed というメッセージが表示されれば、ジョブが終わりました"
   ]
  },
  {
   "cell_type": "markdown",
   "metadata": {},
   "source": [
    "# 推論エンドポイントを作成します"
   ]
  },
  {
   "cell_type": "code",
   "execution_count": 11,
   "metadata": {},
   "outputs": [
    {
     "name": "stderr",
     "output_type": "stream",
     "text": [
      "INFO:sagemaker:Creating model with name: sagemaker-tensorflow-scriptmode-2019-04-25-01-26-06-493\n",
      "INFO:sagemaker:Creating endpoint with name sagemaker-tensorflow-scriptmode-2019-04-25-01-26-06-493\n"
     ]
    },
    {
     "name": "stdout",
     "output_type": "stream",
     "text": [
      "-----------------------------------------------------------------------------------------!"
     ]
    }
   ],
   "source": [
    "instance_type = 'ml.t2.large'\n",
    "\n",
    "predictor = estimator.deploy(instance_type=instance_type, initial_instance_count=1)"
   ]
  },
  {
   "cell_type": "markdown",
   "metadata": {},
   "source": [
    "# SageMaker上の推論エンドポイントにtest用データを投げて推論してみます"
   ]
  },
  {
   "cell_type": "code",
   "execution_count": 12,
   "metadata": {},
   "outputs": [],
   "source": [
    "prediction = predictor.predict(X_test)"
   ]
  },
  {
   "cell_type": "markdown",
   "metadata": {},
   "source": [
    "* 推論結果をplotする"
   ]
  },
  {
   "cell_type": "code",
   "execution_count": 13,
   "metadata": {},
   "outputs": [
    {
     "data": {
      "text/plain": [
       "<matplotlib.axes._subplots.AxesSubplot at 0x7f517607a390>"
      ]
     },
     "execution_count": 13,
     "metadata": {},
     "output_type": "execute_result"
    },
    {
     "data": {
      "image/png": "[encoded data removed]",
      "text/plain": [
       "<Figure size 1080x360 with 1 Axes>"
      ]
     },
     "metadata": {},
     "output_type": "display_data"
    }
   ],
   "source": [
    "dataf =  pd.DataFrame(prediction['predictions'][:200])\n",
    "dataf.columns = [\"predict\"]\n",
    "dataf[\"input\"] = y_test[:200]\n",
    "dataf.plot(figsize=(15, 5))"
   ]
  },
  {
   "cell_type": "code",
   "execution_count": 14,
   "metadata": {},
   "outputs": [
    {
     "name": "stderr",
     "output_type": "stream",
     "text": [
      "INFO:sagemaker:Deleting endpoint with name: sagemaker-tensorflow-scriptmode-2019-04-25-01-26-06-493\n"
     ]
    }
   ],
   "source": [
    "sagemaker.Session().delete_endpoint(predictor.endpoint)"
   ]
  }
 ],
 "metadata": {
  "kernelspec": {
   "display_name": "conda_tensorflow_p36",
   "language": "python",
   "name": "conda_tensorflow_p36"
  },
  "language_info": {
   "codemirror_mode": {
    "name": "ipython",
    "version": 3
   },
   "file_extension": ".py",
   "mimetype": "text/x-python",
   "name": "python",
   "nbconvert_exporter": "python",
   "pygments_lexer": "ipython3",
   "version": "3.6.5"
  }
 },
 "nbformat": 4,
 "nbformat_minor": 2
}
